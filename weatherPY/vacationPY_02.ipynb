{
 "cells": [
  {
   "cell_type": "markdown",
   "metadata": {},
   "source": [
    "# VacationPy\n",
    "----\n",
    "\n",
    "#### Note\n",
    "* Keep an eye on your API usage. Use https://developers.google.com/maps/reporting/gmp-reporting as reference for how to monitor your usage and billing.\n",
    "\n",
    "* Instructions have been included for each segment. You do not have to follow them exactly, but they are included to help you think through the steps."
   ]
  },
  {
   "cell_type": "markdown",
   "metadata": {},
   "source": [
    "# Goals\n",
    "Create a humidity heat map bassed on data from previous studies.\n",
    "\n",
    "Identify places to vacation bassed on ideal temprature cloudcover and humidity"
   ]
  },
  {
   "cell_type": "code",
   "execution_count": 1,
   "metadata": {},
   "outputs": [],
   "source": [
    "# Dependencies and Setup\n",
    "import matplotlib.pyplot as plt\n",
    "import pandas as pd\n",
    "import numpy as np\n",
    "import requests\n",
    "import gmaps\n",
    "import os\n",
    "import json\n",
    "\n",
    "\n",
    "\n",
    "#    Need for slowing down the query loop and date stamps\n",
    "import time\n",
    "\n",
    "# Import API key\n",
    "from api_keys import g_key"
   ]
  },
  {
   "cell_type": "code",
   "execution_count": 2,
   "metadata": {},
   "outputs": [],
   "source": [
    "class GooglePlaces(object):\n",
    "    def __init__(self, apiKey):\n",
    "        super(GooglePlaces, self).__init__()\n",
    "        self.apiKey = apiKey"
   ]
  },
  {
   "cell_type": "markdown",
   "metadata": {},
   "source": [
    "### Store Part I results into DataFrame\n",
    "* Load the csv exported in Part I to a DataFrame"
   ]
  },
  {
   "cell_type": "code",
   "execution_count": 3,
   "metadata": {},
   "outputs": [],
   "source": [
    "#weather_data_df = pd.read_csv(\"big_weather_data_df.csv\")\n",
    "\n",
    "#works\n",
    "#weather_data_o112 = pd.read_csv(\"../output_data/com_weather_data_df.csv\")\n",
    "#weather_data_df = weather_data_o112\n",
    "#weather_data_o112\n",
    "weather_data_df = pd.read_csv(\"output_2/big_weather_data_df.csv\")"
   ]
  },
  {
   "cell_type": "markdown",
   "metadata": {},
   "source": [
    "### Humidity Heatmap\n",
    "* Configure gmaps.\n",
    "* Use the Lat and Lng as locations and Humidity as the weight.\n",
    "* Add Heatmap layer to map."
   ]
  },
  {
   "cell_type": "code",
   "execution_count": 4,
   "metadata": {},
   "outputs": [],
   "source": [
    " # Store latitude and longitude in locations\n",
    "locations = weather_data_df[[\"Latitude\", \"Longitude\"]]\n",
    "\n",
    "#extra import probably delete\n",
    "# Fill NaN values and convert to float\n",
    "humid = weather_data_df[\"Humidity (RH)%\"].astype(float)"
   ]
  },
  {
   "cell_type": "code",
   "execution_count": 5,
   "metadata": {},
   "outputs": [],
   "source": [
    "gmaps.configure(api_key = g_key)"
   ]
  },
  {
   "cell_type": "code",
   "execution_count": 6,
   "metadata": {},
   "outputs": [
    {
     "data": {
      "application/vnd.jupyter.widget-view+json": {
       "model_id": "bd9ceb649589433db888eaf494f3fb61",
       "version_major": 2,
       "version_minor": 0
      },
      "text/plain": [
       "Figure(layout=FigureLayout(height='420px'))"
      ]
     },
     "metadata": {},
     "output_type": "display_data"
    }
   ],
   "source": [
    "# Plot Heatmap\n",
    "humid_fig = gmaps.figure(center = [0,0],zoom_level = 2)\n",
    "\n",
    "\n",
    "# Create heat layer\n",
    "heat_layer = gmaps.heatmap_layer(locations, weights=humid , \n",
    "                                 dissipating=False, max_intensity=65,\n",
    "                                 point_radius=2)\n",
    "\n",
    "\n",
    "# Add layer\n",
    "humid_fig.add_layer(heat_layer)\n",
    "\n",
    "#label map\n",
    "\n",
    "\n",
    "# Display figure\n",
    "humid_fig"
   ]
  },
  {
   "cell_type": "markdown",
   "metadata": {},
   "source": [
    "### Create new DataFrame fitting weather criteria\n",
    "* Narrow down the cities to fit weather conditions.\n",
    "    * Drop any rows will null values.\n",
    "\n",
    "    * A max temperature lower than 80 degrees but higher than 70.\n",
    "    * Wind speed less than 10 mph.\n",
    "    * Zero cloudiness.\n",
    "    * Drop any rows that don't contain all three conditions. You want to be sure the weather is ideal.\n",
    "\n",
    "Note: Feel free to adjust to your specifications but be sure to limit the number of rows returned by your API requests to a reasonable number."
   ]
  },
  {
   "cell_type": "code",
   "execution_count": 7,
   "metadata": {},
   "outputs": [],
   "source": [
    "#weather_data_df"
   ]
  },
  {
   "cell_type": "code",
   "execution_count": 8,
   "metadata": {},
   "outputs": [],
   "source": [
    "mod_temp_df = weather_data_df.loc[(weather_data_df[\"Temp F\"] < 80) & (weather_data_df[\"Temp F\"] > 70) & \n",
    "                                  (weather_data_df[\"wind speed (mph)\"] < 6) &\n",
    "                                  (weather_data_df[\"Cloud% Cover\"] == 0)].copy()"
   ]
  },
  {
   "cell_type": "code",
   "execution_count": 9,
   "metadata": {},
   "outputs": [
    {
     "data": {
      "text/html": [
       "<div>\n",
       "<style scoped>\n",
       "    .dataframe tbody tr th:only-of-type {\n",
       "        vertical-align: middle;\n",
       "    }\n",
       "\n",
       "    .dataframe tbody tr th {\n",
       "        vertical-align: top;\n",
       "    }\n",
       "\n",
       "    .dataframe thead th {\n",
       "        text-align: right;\n",
       "    }\n",
       "</style>\n",
       "<table border=\"1\" class=\"dataframe\">\n",
       "  <thead>\n",
       "    <tr style=\"text-align: right;\">\n",
       "      <th></th>\n",
       "      <th>Unnamed: 0</th>\n",
       "      <th>City ID</th>\n",
       "      <th>City</th>\n",
       "      <th>Country Code</th>\n",
       "      <th>Latitude</th>\n",
       "      <th>Longitude</th>\n",
       "      <th>Temp Kelvin</th>\n",
       "      <th>Temp C</th>\n",
       "      <th>Temp F</th>\n",
       "      <th>Humidity (RH)%</th>\n",
       "      <th>Cloud% Cover</th>\n",
       "      <th>wind speed (m/s)</th>\n",
       "      <th>wind speed (mph)</th>\n",
       "      <th>Time stamp</th>\n",
       "    </tr>\n",
       "  </thead>\n",
       "  <tbody>\n",
       "    <tr>\n",
       "      <th>190</th>\n",
       "      <td>190</td>\n",
       "      <td>315468</td>\n",
       "      <td>Ergani</td>\n",
       "      <td>TR</td>\n",
       "      <td>38.27</td>\n",
       "      <td>39.76</td>\n",
       "      <td>299.10</td>\n",
       "      <td>26.0</td>\n",
       "      <td>79.0</td>\n",
       "      <td>36</td>\n",
       "      <td>0</td>\n",
       "      <td>2.10</td>\n",
       "      <td>4.67</td>\n",
       "      <td>['21 Oct 2020 09:01:15']</td>\n",
       "    </tr>\n",
       "    <tr>\n",
       "      <th>309</th>\n",
       "      <td>309</td>\n",
       "      <td>2094027</td>\n",
       "      <td>Kieta</td>\n",
       "      <td>PG</td>\n",
       "      <td>-6.22</td>\n",
       "      <td>155.63</td>\n",
       "      <td>299.44</td>\n",
       "      <td>26.0</td>\n",
       "      <td>79.0</td>\n",
       "      <td>77</td>\n",
       "      <td>0</td>\n",
       "      <td>1.46</td>\n",
       "      <td>3.24</td>\n",
       "      <td>['21 Oct 2020 09:01:15']</td>\n",
       "    </tr>\n",
       "    <tr>\n",
       "      <th>374</th>\n",
       "      <td>374</td>\n",
       "      <td>1062553</td>\n",
       "      <td>Mahanoro</td>\n",
       "      <td>MG</td>\n",
       "      <td>-19.90</td>\n",
       "      <td>48.80</td>\n",
       "      <td>297.58</td>\n",
       "      <td>24.0</td>\n",
       "      <td>76.0</td>\n",
       "      <td>64</td>\n",
       "      <td>0</td>\n",
       "      <td>2.34</td>\n",
       "      <td>5.20</td>\n",
       "      <td>['21 Oct 2020 09:01:15']</td>\n",
       "    </tr>\n",
       "  </tbody>\n",
       "</table>\n",
       "</div>"
      ],
      "text/plain": [
       "     Unnamed: 0  City ID      City Country Code  Latitude  Longitude  \\\n",
       "190         190   315468    Ergani           TR     38.27      39.76   \n",
       "309         309  2094027     Kieta           PG     -6.22     155.63   \n",
       "374         374  1062553  Mahanoro           MG    -19.90      48.80   \n",
       "\n",
       "     Temp Kelvin  Temp C  Temp F  Humidity (RH)%  Cloud% Cover  \\\n",
       "190       299.10    26.0    79.0              36             0   \n",
       "309       299.44    26.0    79.0              77             0   \n",
       "374       297.58    24.0    76.0              64             0   \n",
       "\n",
       "     wind speed (m/s)  wind speed (mph)                Time stamp  \n",
       "190              2.10              4.67  ['21 Oct 2020 09:01:15']  \n",
       "309              1.46              3.24  ['21 Oct 2020 09:01:15']  \n",
       "374              2.34              5.20  ['21 Oct 2020 09:01:15']  "
      ]
     },
     "execution_count": 9,
     "metadata": {},
     "output_type": "execute_result"
    }
   ],
   "source": [
    "mod_temp_df"
   ]
  },
  {
   "cell_type": "code",
   "execution_count": null,
   "metadata": {},
   "outputs": [],
   "source": []
  },
  {
   "cell_type": "markdown",
   "metadata": {},
   "source": [
    "### Hotel Map\n",
    "* Store into variable named `hotel_df`.\n",
    "* Add a \"Hotel Name\" column to the DataFrame.\n",
    "* Set parameters to search for hotels with 5000 meters.\n",
    "* Hit the Google Places API for each city's coordinates.\n",
    "* Store the first Hotel result into the DataFrame.\n",
    "* Plot markers on top of the heatmap."
   ]
  },
  {
   "cell_type": "code",
   "execution_count": null,
   "metadata": {},
   "outputs": [],
   "source": []
  },
  {
   "cell_type": "markdown",
   "metadata": {},
   "source": [
    "# Uses google call to get hotel data"
   ]
  },
  {
   "cell_type": "code",
   "execution_count": 10,
   "metadata": {
    "scrolled": false
   },
   "outputs": [],
   "source": [
    "# Identifies Hotels, address, and longitude and latitude of the Hotel\n",
    "### works well\n",
    "\n",
    "Hotel_Name = []\n",
    "hotel_address = []\n",
    "hotel_rating = []\n",
    "\n",
    "hotel_lat = []\n",
    "hotel_lon = []\n",
    "\n",
    "hotel_addresCC = []\n",
    "\n",
    "\n",
    "# params dictionary to update each iteration\n",
    "params = {\n",
    "            \"radius\": 50000,\n",
    "            \"types\": \"lodging\",\n",
    "            \"keyword\": \"hotel\",\n",
    "            \"key\": g_key\n",
    "}\n",
    "\n",
    "# Use the lat/lng we recovered to identify airports\n",
    "\n",
    "for index, row in mod_temp_df.iterrows():\n",
    "    \n",
    "\n",
    "    \n",
    "    # get lat, lng from df\n",
    "    lat = row[\"Latitude\"]\n",
    "    lng = row[\"Longitude\"]\n",
    "\n",
    "    # change location each iteration while leaving original params in place\n",
    "    params[\"location\"] = f\"{lat},{lng}\"\n",
    "\n",
    "    # Use the search term: \"International Airport\" and our lat/lng\n",
    "    base_url = \"https://maps.googleapis.com/maps/api/place/nearbysearch/json\"\n",
    "    \n",
    "\n",
    "    \n",
    "#make request and print url\n",
    "\n",
    "    name_address = requests.get(base_url, params=params)\n",
    "    #print(name_address)\n",
    "\n",
    "########     print the name_address url, avoid doing for public github repos in order to avoid exposing key\n",
    "    #print(name_address.url)\n",
    " #########   # convert to json\n",
    "    name_address = name_address.json()\n",
    "#    print(json.dumps(name_address, indent=4, sort_keys=True))\n",
    "\n",
    "\n",
    "    \n",
    "    \n",
    "    try:\n",
    "####################   Stratagy 1 gets a new datafame based on hotel. Prefered method\n",
    "###################    Works well but can't find a way to get country and city data from json\n",
    "####################   Cant revese look up but working on it\n",
    "\n",
    "        #list stratagy for new data frame does not have country\n",
    "        Hotel_Name.append(name_address[\"results\"][0][\"name\"])\n",
    "        hotel_address.append(name_address[\"results\"][0][\"vicinity\"])\n",
    "        hotel_rating.append(name_address[\"results\"][0][\"rating\"])\n",
    "        \n",
    "        hotel_lat.append(name_address[\"results\"][0][\"geometry\"][\"location\"][\"lat\" ])\n",
    "        hotel_lon.append(name_address[\"results\"][0][\"geometry\"][\"location\"][\"lng\"])\n",
    "        \n",
    "        hotel_addresCC.append(name_address[\"results\"][0][\"plus_code\"][\"compound_code\"])\n",
    "        \n",
    "    \n",
    "    except (KeyError, IndexError):\n",
    "        print(\"Hotel not found\")\n"
   ]
  },
  {
   "cell_type": "code",
   "execution_count": 11,
   "metadata": {},
   "outputs": [
    {
     "name": "stdout",
     "output_type": "stream",
     "text": [
      "['Radisson Blu Hotel Diyarbakir', 'Rising Sun Lodge', 'Bungalow le Prestige']\n"
     ]
    }
   ],
   "source": [
    "#chec hotel name list probably delete\n",
    "print(Hotel_Name)"
   ]
  },
  {
   "cell_type": "code",
   "execution_count": 38,
   "metadata": {},
   "outputs": [
    {
     "data": {
      "text/html": [
       "<div>\n",
       "<style scoped>\n",
       "    .dataframe tbody tr th:only-of-type {\n",
       "        vertical-align: middle;\n",
       "    }\n",
       "\n",
       "    .dataframe tbody tr th {\n",
       "        vertical-align: top;\n",
       "    }\n",
       "\n",
       "    .dataframe thead th {\n",
       "        text-align: right;\n",
       "    }\n",
       "</style>\n",
       "<table border=\"1\" class=\"dataframe\">\n",
       "  <thead>\n",
       "    <tr style=\"text-align: right;\">\n",
       "      <th></th>\n",
       "      <th>Nearest Hotel</th>\n",
       "      <th>Hotel Address</th>\n",
       "      <th>Hotel Rating</th>\n",
       "      <th>Lat</th>\n",
       "      <th>Lng</th>\n",
       "      <th>GarCountry</th>\n",
       "    </tr>\n",
       "  </thead>\n",
       "  <tbody>\n",
       "    <tr>\n",
       "      <th>0</th>\n",
       "      <td>Radisson Blu Hotel Diyarbakir</td>\n",
       "      <td>Fırat, Şanlıurfa Blv. No 170, Kayapınar</td>\n",
       "      <td>4.4</td>\n",
       "      <td>37.921952</td>\n",
       "      <td>40.147579</td>\n",
       "      <td>W4CX+Q2 Kayapınar, Diyarbakır, Turkey</td>\n",
       "    </tr>\n",
       "    <tr>\n",
       "      <th>1</th>\n",
       "      <td>Rising Sun Lodge</td>\n",
       "      <td>Section 16, Lot 36,, Arawa</td>\n",
       "      <td>3.7</td>\n",
       "      <td>-6.233893</td>\n",
       "      <td>155.566209</td>\n",
       "      <td>QH88+CF Arawa, Papua New Guinea</td>\n",
       "    </tr>\n",
       "    <tr>\n",
       "      <th>2</th>\n",
       "      <td>Bungalow le Prestige</td>\n",
       "      <td>Ambalamangahazo</td>\n",
       "      <td>4.0</td>\n",
       "      <td>-19.903613</td>\n",
       "      <td>48.812832</td>\n",
       "      <td>3RW7+H4 Mahanoro, Madagascar</td>\n",
       "    </tr>\n",
       "  </tbody>\n",
       "</table>\n",
       "</div>"
      ],
      "text/plain": [
       "                   Nearest Hotel                            Hotel Address  \\\n",
       "0  Radisson Blu Hotel Diyarbakir  Fırat, Şanlıurfa Blv. No 170, Kayapınar   \n",
       "1               Rising Sun Lodge               Section 16, Lot 36,, Arawa   \n",
       "2           Bungalow le Prestige                          Ambalamangahazo   \n",
       "\n",
       "   Hotel Rating        Lat         Lng                             GarCountry  \n",
       "0           4.4  37.921952   40.147579  W4CX+Q2 Kayapınar, Diyarbakır, Turkey  \n",
       "1           3.7  -6.233893  155.566209        QH88+CF Arawa, Papua New Guinea  \n",
       "2           4.0 -19.903613   48.812832           3RW7+H4 Mahanoro, Madagascar  "
      ]
     },
     "execution_count": 38,
     "metadata": {},
     "output_type": "execute_result"
    }
   ],
   "source": [
    "# zips hotel dataframe\n",
    "hotel_df = pd.DataFrame(list(zip(Hotel_Name, hotel_address, hotel_rating, hotel_lat, hotel_lon, hotel_addresCC)), \n",
    "                    columns =[\"Nearest Hotel\", \"Hotel Address\", \"Hotel Rating\", \"Lat\", \"Lng\", \"GarCountry\"])\n",
    "hotel_df"
   ]
  },
  {
   "cell_type": "code",
   "execution_count": 39,
   "metadata": {},
   "outputs": [
    {
     "data": {
      "text/html": [
       "<div>\n",
       "<style scoped>\n",
       "    .dataframe tbody tr th:only-of-type {\n",
       "        vertical-align: middle;\n",
       "    }\n",
       "\n",
       "    .dataframe tbody tr th {\n",
       "        vertical-align: top;\n",
       "    }\n",
       "\n",
       "    .dataframe thead th {\n",
       "        text-align: right;\n",
       "    }\n",
       "</style>\n",
       "<table border=\"1\" class=\"dataframe\">\n",
       "  <thead>\n",
       "    <tr style=\"text-align: right;\">\n",
       "      <th></th>\n",
       "      <th>Nearest Hotel</th>\n",
       "      <th>Hotel Address</th>\n",
       "      <th>Hotel Rating</th>\n",
       "      <th>Lat</th>\n",
       "      <th>Lng</th>\n",
       "      <th>GarCountry</th>\n",
       "      <th>garbage</th>\n",
       "      <th>City</th>\n",
       "      <th>Country</th>\n",
       "    </tr>\n",
       "  </thead>\n",
       "  <tbody>\n",
       "    <tr>\n",
       "      <th>0</th>\n",
       "      <td>Radisson Blu Hotel Diyarbakir</td>\n",
       "      <td>Fırat, Şanlıurfa Blv. No 170, Kayapınar</td>\n",
       "      <td>4.4</td>\n",
       "      <td>37.921952</td>\n",
       "      <td>40.147579</td>\n",
       "      <td>W4CX+Q2 Kayapınar, Diyarbakır, Turkey</td>\n",
       "      <td>W4CX+Q2 Kayapınar</td>\n",
       "      <td>Diyarbakır</td>\n",
       "      <td>Turkey</td>\n",
       "    </tr>\n",
       "    <tr>\n",
       "      <th>1</th>\n",
       "      <td>Rising Sun Lodge</td>\n",
       "      <td>Section 16, Lot 36,, Arawa</td>\n",
       "      <td>3.7</td>\n",
       "      <td>-6.233893</td>\n",
       "      <td>155.566209</td>\n",
       "      <td>QH88+CF Arawa, Papua New Guinea</td>\n",
       "      <td>QH88+CF Arawa</td>\n",
       "      <td>Papua New Guinea</td>\n",
       "      <td>None</td>\n",
       "    </tr>\n",
       "    <tr>\n",
       "      <th>2</th>\n",
       "      <td>Bungalow le Prestige</td>\n",
       "      <td>Ambalamangahazo</td>\n",
       "      <td>4.0</td>\n",
       "      <td>-19.903613</td>\n",
       "      <td>48.812832</td>\n",
       "      <td>3RW7+H4 Mahanoro, Madagascar</td>\n",
       "      <td>3RW7+H4 Mahanoro</td>\n",
       "      <td>Madagascar</td>\n",
       "      <td>None</td>\n",
       "    </tr>\n",
       "  </tbody>\n",
       "</table>\n",
       "</div>"
      ],
      "text/plain": [
       "                   Nearest Hotel                            Hotel Address  \\\n",
       "0  Radisson Blu Hotel Diyarbakir  Fırat, Şanlıurfa Blv. No 170, Kayapınar   \n",
       "1               Rising Sun Lodge               Section 16, Lot 36,, Arawa   \n",
       "2           Bungalow le Prestige                          Ambalamangahazo   \n",
       "\n",
       "   Hotel Rating        Lat         Lng                             GarCountry  \\\n",
       "0           4.4  37.921952   40.147579  W4CX+Q2 Kayapınar, Diyarbakır, Turkey   \n",
       "1           3.7  -6.233893  155.566209        QH88+CF Arawa, Papua New Guinea   \n",
       "2           4.0 -19.903613   48.812832           3RW7+H4 Mahanoro, Madagascar   \n",
       "\n",
       "             garbage               City  Country  \n",
       "0  W4CX+Q2 Kayapınar         Diyarbakır   Turkey  \n",
       "1      QH88+CF Arawa   Papua New Guinea     None  \n",
       "2   3RW7+H4 Mahanoro         Madagascar     None  "
      ]
     },
     "execution_count": 39,
     "metadata": {},
     "output_type": "execute_result"
    }
   ],
   "source": [
    "hotel_df[['garbage','City','Country']] = hotel_df[\"GarCountry\"].str.split(',',expand=True)\n",
    "hotel_df"
   ]
  },
  {
   "cell_type": "code",
   "execution_count": 40,
   "metadata": {},
   "outputs": [],
   "source": [
    "hotel_df = hotel_df.drop([\"GarCountry\"], axis=1)\n"
   ]
  },
  {
   "cell_type": "code",
   "execution_count": 41,
   "metadata": {},
   "outputs": [],
   "source": [
    "hotel_df = hotel_df.drop([\"garbage\"], axis=1)\n",
    "hotel_df = hotel_df.copy()"
   ]
  },
  {
   "cell_type": "code",
   "execution_count": 42,
   "metadata": {},
   "outputs": [
    {
     "data": {
      "text/html": [
       "<div>\n",
       "<style scoped>\n",
       "    .dataframe tbody tr th:only-of-type {\n",
       "        vertical-align: middle;\n",
       "    }\n",
       "\n",
       "    .dataframe tbody tr th {\n",
       "        vertical-align: top;\n",
       "    }\n",
       "\n",
       "    .dataframe thead th {\n",
       "        text-align: right;\n",
       "    }\n",
       "</style>\n",
       "<table border=\"1\" class=\"dataframe\">\n",
       "  <thead>\n",
       "    <tr style=\"text-align: right;\">\n",
       "      <th></th>\n",
       "      <th>Nearest Hotel</th>\n",
       "      <th>Hotel Address</th>\n",
       "      <th>Hotel Rating</th>\n",
       "      <th>Lat</th>\n",
       "      <th>Lng</th>\n",
       "      <th>City</th>\n",
       "      <th>Country</th>\n",
       "    </tr>\n",
       "  </thead>\n",
       "  <tbody>\n",
       "    <tr>\n",
       "      <th>0</th>\n",
       "      <td>Radisson Blu Hotel Diyarbakir</td>\n",
       "      <td>Fırat, Şanlıurfa Blv. No 170, Kayapınar</td>\n",
       "      <td>4.4</td>\n",
       "      <td>37.921952</td>\n",
       "      <td>40.147579</td>\n",
       "      <td>Diyarbakır</td>\n",
       "      <td>Turkey</td>\n",
       "    </tr>\n",
       "    <tr>\n",
       "      <th>1</th>\n",
       "      <td>Rising Sun Lodge</td>\n",
       "      <td>Section 16, Lot 36,, Arawa</td>\n",
       "      <td>3.7</td>\n",
       "      <td>-6.233893</td>\n",
       "      <td>155.566209</td>\n",
       "      <td>Papua New Guinea</td>\n",
       "      <td>None</td>\n",
       "    </tr>\n",
       "    <tr>\n",
       "      <th>2</th>\n",
       "      <td>Bungalow le Prestige</td>\n",
       "      <td>Ambalamangahazo</td>\n",
       "      <td>4.0</td>\n",
       "      <td>-19.903613</td>\n",
       "      <td>48.812832</td>\n",
       "      <td>Madagascar</td>\n",
       "      <td>None</td>\n",
       "    </tr>\n",
       "  </tbody>\n",
       "</table>\n",
       "</div>"
      ],
      "text/plain": [
       "                   Nearest Hotel                            Hotel Address  \\\n",
       "0  Radisson Blu Hotel Diyarbakir  Fırat, Şanlıurfa Blv. No 170, Kayapınar   \n",
       "1               Rising Sun Lodge               Section 16, Lot 36,, Arawa   \n",
       "2           Bungalow le Prestige                          Ambalamangahazo   \n",
       "\n",
       "   Hotel Rating        Lat         Lng               City  Country  \n",
       "0           4.4  37.921952   40.147579         Diyarbakır   Turkey  \n",
       "1           3.7  -6.233893  155.566209   Papua New Guinea     None  \n",
       "2           4.0 -19.903613   48.812832         Madagascar     None  "
      ]
     },
     "execution_count": 42,
     "metadata": {},
     "output_type": "execute_result"
    }
   ],
   "source": [
    "hotel_df"
   ]
  },
  {
   "cell_type": "code",
   "execution_count": null,
   "metadata": {},
   "outputs": [],
   "source": [
    "hotel_df"
   ]
  },
  {
   "cell_type": "markdown",
   "metadata": {},
   "source": [
    "# Final dataframe for graphing"
   ]
  },
  {
   "cell_type": "code",
   "execution_count": 52,
   "metadata": {},
   "outputs": [
    {
     "data": {
      "text/html": [
       "<div>\n",
       "<style scoped>\n",
       "    .dataframe tbody tr th:only-of-type {\n",
       "        vertical-align: middle;\n",
       "    }\n",
       "\n",
       "    .dataframe tbody tr th {\n",
       "        vertical-align: top;\n",
       "    }\n",
       "\n",
       "    .dataframe thead th {\n",
       "        text-align: right;\n",
       "    }\n",
       "</style>\n",
       "<table border=\"1\" class=\"dataframe\">\n",
       "  <thead>\n",
       "    <tr style=\"text-align: right;\">\n",
       "      <th></th>\n",
       "      <th>Nearest Hotel</th>\n",
       "      <th>Hotel Address</th>\n",
       "      <th>Hotel Rating</th>\n",
       "      <th>Lat</th>\n",
       "      <th>Lng</th>\n",
       "      <th>City</th>\n",
       "      <th>Country</th>\n",
       "    </tr>\n",
       "  </thead>\n",
       "  <tbody>\n",
       "    <tr>\n",
       "      <th>0</th>\n",
       "      <td>Radisson Blu Hotel Diyarbakir</td>\n",
       "      <td>Fırat, Şanlıurfa Blv. No 170, Kayapınar</td>\n",
       "      <td>4.4</td>\n",
       "      <td>37.921952</td>\n",
       "      <td>40.147579</td>\n",
       "      <td>Diyarbakır</td>\n",
       "      <td>Turkey</td>\n",
       "    </tr>\n",
       "    <tr>\n",
       "      <th>1</th>\n",
       "      <td>Rising Sun Lodge</td>\n",
       "      <td>Section 16, Lot 36,, Arawa</td>\n",
       "      <td>3.7</td>\n",
       "      <td>-6.233893</td>\n",
       "      <td>155.566209</td>\n",
       "      <td>Papua New Guinea</td>\n",
       "      <td>None</td>\n",
       "    </tr>\n",
       "    <tr>\n",
       "      <th>2</th>\n",
       "      <td>Bungalow le Prestige</td>\n",
       "      <td>Ambalamangahazo</td>\n",
       "      <td>4.0</td>\n",
       "      <td>-19.903613</td>\n",
       "      <td>48.812832</td>\n",
       "      <td>Madagascar</td>\n",
       "      <td>None</td>\n",
       "    </tr>\n",
       "  </tbody>\n",
       "</table>\n",
       "</div>"
      ],
      "text/plain": [
       "                   Nearest Hotel                            Hotel Address  \\\n",
       "0  Radisson Blu Hotel Diyarbakir  Fırat, Şanlıurfa Blv. No 170, Kayapınar   \n",
       "1               Rising Sun Lodge               Section 16, Lot 36,, Arawa   \n",
       "2           Bungalow le Prestige                          Ambalamangahazo   \n",
       "\n",
       "   Hotel Rating        Lat         Lng               City  Country  \n",
       "0           4.4  37.921952   40.147579         Diyarbakır   Turkey  \n",
       "1           3.7  -6.233893  155.566209   Papua New Guinea     None  \n",
       "2           4.0 -19.903613   48.812832         Madagascar     None  "
      ]
     },
     "execution_count": 52,
     "metadata": {},
     "output_type": "execute_result"
    }
   ],
   "source": [
    "hotel_df"
   ]
  },
  {
   "cell_type": "markdown",
   "metadata": {},
   "source": [
    "# Graphs"
   ]
  },
  {
   "cell_type": "code",
   "execution_count": 53,
   "metadata": {},
   "outputs": [],
   "source": [
    " # Store latitude and longitude in locations\n",
    "locations = hotel_df[[\"Lat\", \"Lng\"]]\n",
    "\n",
    "# Fill NaN values and convert to float\n",
    "rating = hotel_df[\"Hotel Rating\"].astype(float)"
   ]
  },
  {
   "cell_type": "code",
   "execution_count": 54,
   "metadata": {},
   "outputs": [
    {
     "data": {
      "application/vnd.jupyter.widget-view+json": {
       "model_id": "c8fe0106bab74061afaacc1d8929f673",
       "version_major": 2,
       "version_minor": 0
      },
      "text/plain": [
       "Figure(layout=FigureLayout(height='420px'))"
      ]
     },
     "metadata": {},
     "output_type": "display_data"
    }
   ],
   "source": [
    "# Purpose: a clean plot\n",
    "# Create a map using state centroid coordinates to set markers\n",
    "marker_locations = hotel_df[['Lat', 'Lng']]\n",
    "\n",
    "# Create a marker_layer using the poverty list to fill the info box\n",
    "fig_pin = gmaps.figure()\n",
    "markers = gmaps.marker_layer(marker_locations,\n",
    "    info_box_content=[f\"Hotel: {Hotel_Name}\" for hotel in Hotel_Name])\n",
    "fig_pin.add_layer(markers)\n",
    "fig_pin"
   ]
  },
  {
   "cell_type": "markdown",
   "metadata": {},
   "source": [
    "# Main Hotel plot bassed on humidity heat map"
   ]
  },
  {
   "cell_type": "code",
   "execution_count": 55,
   "metadata": {},
   "outputs": [],
   "source": [
    "# Using the template add the hotel marks to the heatmap\n",
    "info_box_template = \"\"\"\n",
    "<dl>\n",
    "<dt>Name</dt><dd>{Nearest Hotel}</dd>\n",
    "<dt>City</dt><dd>{City}</dd>\n",
    "<dt>Country</dt><dd>{Country}</dd>\n",
    "</dl>\n",
    "\"\"\"\n",
    "# Store the DataFrame Row\n",
    "# NOTE: be sure to update with your DataFrame name\n",
    "hotel_info = [info_box_template.format(**row) for index, row in hotel_df.iterrows()]\n",
    "locations = hotel_df[[\"Lat\", \"Lng\"]]"
   ]
  },
  {
   "cell_type": "code",
   "execution_count": 56,
   "metadata": {},
   "outputs": [
    {
     "data": {
      "application/vnd.jupyter.widget-view+json": {
       "model_id": "bd9ceb649589433db888eaf494f3fb61",
       "version_major": 2,
       "version_minor": 0
      },
      "text/plain": [
       "Figure(layout=FigureLayout(height='420px'))"
      ]
     },
     "metadata": {},
     "output_type": "display_data"
    }
   ],
   "source": [
    "# Add marker layer ontop of heat map\n",
    "markers = gmaps.marker_layer(locations, info_box_content= [f\"Nearest Hotel: {Hotel_Name}\" for hotel in Hotel_Name])\n",
    "humid_fig.add_layer(markers)\n",
    "\n",
    "\n",
    "# Display Map\n",
    "\n",
    "\n",
    "humid_fig\n"
   ]
  },
  {
   "cell_type": "markdown",
   "metadata": {},
   "source": [
    "#  Conclusion\n",
    "Identifed three interesting places to go on vacation."
   ]
  },
  {
   "cell_type": "code",
   "execution_count": null,
   "metadata": {},
   "outputs": [],
   "source": []
  },
  {
   "cell_type": "code",
   "execution_count": null,
   "metadata": {},
   "outputs": [],
   "source": []
  },
  {
   "cell_type": "code",
   "execution_count": null,
   "metadata": {},
   "outputs": [],
   "source": []
  }
 ],
 "metadata": {
  "kernelspec": {
   "display_name": "Python [conda env:PythonData]",
   "language": "python",
   "name": "conda-env-PythonData-py"
  },
  "language_info": {
   "codemirror_mode": {
    "name": "ipython",
    "version": 3
   },
   "file_extension": ".py",
   "mimetype": "text/x-python",
   "name": "python",
   "nbconvert_exporter": "python",
   "pygments_lexer": "ipython3",
   "version": "3.6.10"
  },
  "latex_envs": {
   "LaTeX_envs_menu_present": true,
   "autoclose": false,
   "autocomplete": true,
   "bibliofile": "biblio.bib",
   "cite_by": "apalike",
   "current_citInitial": 1,
   "eqLabelWithNumbers": true,
   "eqNumInitial": 1,
   "hotkeys": {
    "equation": "Ctrl-E",
    "itemize": "Ctrl-I"
   },
   "labels_anchors": false,
   "latex_user_defs": false,
   "report_style_numbering": false,
   "user_envs_cfg": false
  }
 },
 "nbformat": 4,
 "nbformat_minor": 4
}
