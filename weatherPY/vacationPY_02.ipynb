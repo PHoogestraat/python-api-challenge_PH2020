{
 "cells": [
  {
   "cell_type": "markdown",
   "metadata": {},
   "source": [
    "# VacationPy\n",
    "----\n",
    "\n",
    "#### Note\n",
    "* Keep an eye on your API usage. Use https://developers.google.com/maps/reporting/gmp-reporting as reference for how to monitor your usage and billing.\n",
    "\n",
    "* Instructions have been included for each segment. You do not have to follow them exactly, but they are included to help you think through the steps."
   ]
  },
  {
   "cell_type": "code",
   "execution_count": 91,
   "metadata": {},
   "outputs": [],
   "source": [
    "# Dependencies and Setup\n",
    "import matplotlib.pyplot as plt\n",
    "import pandas as pd\n",
    "import numpy as np\n",
    "import requests\n",
    "import gmaps\n",
    "import os\n",
    "import json\n",
    "\n",
    "\n",
    "\n",
    "#    Need for slowing down the query loop and date stamps\n",
    "import time\n",
    "\n",
    "# Import API key\n",
    "from api_keys import g_key"
   ]
  },
  {
   "cell_type": "code",
   "execution_count": 92,
   "metadata": {},
   "outputs": [],
   "source": [
    "class GooglePlaces(object):\n",
    "    def __init__(self, apiKey):\n",
    "        super(GooglePlaces, self).__init__()\n",
    "        self.apiKey = apiKey"
   ]
  },
  {
   "cell_type": "markdown",
   "metadata": {},
   "source": [
    "### Store Part I results into DataFrame\n",
    "* Load the csv exported in Part I to a DataFrame"
   ]
  },
  {
   "cell_type": "code",
   "execution_count": 93,
   "metadata": {},
   "outputs": [],
   "source": [
    "#weather_data_df = pd.read_csv(\"big_weather_data_df.csv\")\n",
    "\n",
    "#works\n",
    "#weather_data_o112 = pd.read_csv(\"../output_data/com_weather_data_df.csv\")\n",
    "#weather_data_df = weather_data_o112\n",
    "#weather_data_o112\n",
    "weather_data_df = pd.read_csv(\"output_2/big_weather_data_df.csv\")"
   ]
  },
  {
   "cell_type": "markdown",
   "metadata": {},
   "source": [
    "### Humidity Heatmap\n",
    "* Configure gmaps.\n",
    "* Use the Lat and Lng as locations and Humidity as the weight.\n",
    "* Add Heatmap layer to map."
   ]
  },
  {
   "cell_type": "code",
   "execution_count": 94,
   "metadata": {},
   "outputs": [],
   "source": [
    " # Store latitude and longitude in locations\n",
    "locations = weather_data_df[[\"Latitude\", \"Longitude\"]]\n",
    "\n",
    "#extra import probably delete\n",
    "# Fill NaN values and convert to float\n",
    "humid = weather_data_df[\"Humidity (RH)%\"].astype(float)"
   ]
  },
  {
   "cell_type": "code",
   "execution_count": 95,
   "metadata": {},
   "outputs": [],
   "source": [
    "gmaps.configure(api_key = g_key)"
   ]
  },
  {
   "cell_type": "code",
   "execution_count": 96,
   "metadata": {},
   "outputs": [
    {
     "data": {
      "application/vnd.jupyter.widget-view+json": {
       "model_id": "51d3e8a6f3534f61b99c550955e2edc1",
       "version_major": 2,
       "version_minor": 0
      },
      "text/plain": [
       "Figure(layout=FigureLayout(height='420px'))"
      ]
     },
     "metadata": {},
     "output_type": "display_data"
    }
   ],
   "source": [
    "# Plot Heatmap\n",
    "fig = gmaps.figure(center = [0,0],zoom_level = 2)\n",
    "\n",
    "\n",
    "# Create heat layer\n",
    "heat_layer = gmaps.heatmap_layer(locations, weights=humid , \n",
    "                                 dissipating=False, max_intensity=85,\n",
    "                                 point_radius=3)\n",
    "\n",
    "\n",
    "# Add layer\n",
    "fig.add_layer(heat_layer)\n",
    "\n",
    "#label map\n",
    "\n",
    "\n",
    "# Display figure\n",
    "fig"
   ]
  },
  {
   "cell_type": "markdown",
   "metadata": {},
   "source": [
    "### Create new DataFrame fitting weather criteria\n",
    "* Narrow down the cities to fit weather conditions.\n",
    "    * Drop any rows will null values.\n",
    "\n",
    "    * A max temperature lower than 80 degrees but higher than 70.\n",
    "    * Wind speed less than 10 mph.\n",
    "    * Zero cloudiness.\n",
    "    * Drop any rows that don't contain all three conditions. You want to be sure the weather is ideal.\n",
    "\n",
    "Note: Feel free to adjust to your specifications but be sure to limit the number of rows returned by your API requests to a reasonable number."
   ]
  },
  {
   "cell_type": "code",
   "execution_count": 97,
   "metadata": {},
   "outputs": [],
   "source": [
    "#weather_data_df"
   ]
  },
  {
   "cell_type": "code",
   "execution_count": 98,
   "metadata": {},
   "outputs": [],
   "source": [
    "mod_temp_df = weather_data_df.loc[(weather_data_df[\"Temp F\"] < 80) & (weather_data_df[\"Temp F\"] > 70) & \n",
    "                                  (weather_data_df[\"wind speed (mph)\"] < 6) &\n",
    "                                  (weather_data_df[\"Cloud% Cover\"] == 0)].copy()"
   ]
  },
  {
   "cell_type": "code",
   "execution_count": 99,
   "metadata": {},
   "outputs": [
    {
     "data": {
      "text/html": [
       "<div>\n",
       "<style scoped>\n",
       "    .dataframe tbody tr th:only-of-type {\n",
       "        vertical-align: middle;\n",
       "    }\n",
       "\n",
       "    .dataframe tbody tr th {\n",
       "        vertical-align: top;\n",
       "    }\n",
       "\n",
       "    .dataframe thead th {\n",
       "        text-align: right;\n",
       "    }\n",
       "</style>\n",
       "<table border=\"1\" class=\"dataframe\">\n",
       "  <thead>\n",
       "    <tr style=\"text-align: right;\">\n",
       "      <th></th>\n",
       "      <th>Unnamed: 0</th>\n",
       "      <th>City ID</th>\n",
       "      <th>City</th>\n",
       "      <th>Country Code</th>\n",
       "      <th>Latitude</th>\n",
       "      <th>Longitude</th>\n",
       "      <th>Temp Kelvin</th>\n",
       "      <th>Temp C</th>\n",
       "      <th>Temp F</th>\n",
       "      <th>Humidity (RH)%</th>\n",
       "      <th>Cloud% Cover</th>\n",
       "      <th>wind speed (m/s)</th>\n",
       "      <th>wind speed (mph)</th>\n",
       "      <th>Time stamp</th>\n",
       "    </tr>\n",
       "  </thead>\n",
       "  <tbody>\n",
       "    <tr>\n",
       "      <th>190</th>\n",
       "      <td>190</td>\n",
       "      <td>315468</td>\n",
       "      <td>Ergani</td>\n",
       "      <td>TR</td>\n",
       "      <td>38.27</td>\n",
       "      <td>39.76</td>\n",
       "      <td>299.10</td>\n",
       "      <td>26.0</td>\n",
       "      <td>79.0</td>\n",
       "      <td>36</td>\n",
       "      <td>0</td>\n",
       "      <td>2.10</td>\n",
       "      <td>4.67</td>\n",
       "      <td>['21 Oct 2020 09:01:15']</td>\n",
       "    </tr>\n",
       "    <tr>\n",
       "      <th>309</th>\n",
       "      <td>309</td>\n",
       "      <td>2094027</td>\n",
       "      <td>Kieta</td>\n",
       "      <td>PG</td>\n",
       "      <td>-6.22</td>\n",
       "      <td>155.63</td>\n",
       "      <td>299.44</td>\n",
       "      <td>26.0</td>\n",
       "      <td>79.0</td>\n",
       "      <td>77</td>\n",
       "      <td>0</td>\n",
       "      <td>1.46</td>\n",
       "      <td>3.24</td>\n",
       "      <td>['21 Oct 2020 09:01:15']</td>\n",
       "    </tr>\n",
       "    <tr>\n",
       "      <th>374</th>\n",
       "      <td>374</td>\n",
       "      <td>1062553</td>\n",
       "      <td>Mahanoro</td>\n",
       "      <td>MG</td>\n",
       "      <td>-19.90</td>\n",
       "      <td>48.80</td>\n",
       "      <td>297.58</td>\n",
       "      <td>24.0</td>\n",
       "      <td>76.0</td>\n",
       "      <td>64</td>\n",
       "      <td>0</td>\n",
       "      <td>2.34</td>\n",
       "      <td>5.20</td>\n",
       "      <td>['21 Oct 2020 09:01:15']</td>\n",
       "    </tr>\n",
       "  </tbody>\n",
       "</table>\n",
       "</div>"
      ],
      "text/plain": [
       "     Unnamed: 0  City ID      City Country Code  Latitude  Longitude  \\\n",
       "190         190   315468    Ergani           TR     38.27      39.76   \n",
       "309         309  2094027     Kieta           PG     -6.22     155.63   \n",
       "374         374  1062553  Mahanoro           MG    -19.90      48.80   \n",
       "\n",
       "     Temp Kelvin  Temp C  Temp F  Humidity (RH)%  Cloud% Cover  \\\n",
       "190       299.10    26.0    79.0              36             0   \n",
       "309       299.44    26.0    79.0              77             0   \n",
       "374       297.58    24.0    76.0              64             0   \n",
       "\n",
       "     wind speed (m/s)  wind speed (mph)                Time stamp  \n",
       "190              2.10              4.67  ['21 Oct 2020 09:01:15']  \n",
       "309              1.46              3.24  ['21 Oct 2020 09:01:15']  \n",
       "374              2.34              5.20  ['21 Oct 2020 09:01:15']  "
      ]
     },
     "execution_count": 99,
     "metadata": {},
     "output_type": "execute_result"
    }
   ],
   "source": [
    "mod_temp_df"
   ]
  },
  {
   "cell_type": "code",
   "execution_count": null,
   "metadata": {},
   "outputs": [],
   "source": []
  },
  {
   "cell_type": "markdown",
   "metadata": {},
   "source": [
    "### Hotel Map\n",
    "* Store into variable named `hotel_df`.\n",
    "* Add a \"Hotel Name\" column to the DataFrame.\n",
    "* Set parameters to search for hotels with 5000 meters.\n",
    "* Hit the Google Places API for each city's coordinates.\n",
    "* Store the first Hotel result into the DataFrame.\n",
    "* Plot markers on top of the heatmap."
   ]
  },
  {
   "cell_type": "code",
   "execution_count": null,
   "metadata": {},
   "outputs": [],
   "source": []
  },
  {
   "cell_type": "code",
   "execution_count": 100,
   "metadata": {},
   "outputs": [],
   "source": [
    "#hotel_df"
   ]
  },
  {
   "cell_type": "markdown",
   "metadata": {},
   "source": [
    "Basic\n",
    "\n",
    "The Basic category includes the following fields:\n",
    "business_status, formatted_address, geometry, icon,name, permanently_closed (deprecated), photos, place_id, plus_code, types\n",
    "\n",
    "Required parameters\n",
    "\n",
    "key — Your application's API key. This key identifies your application. \n",
    "\n",
    "location — The latitude/longitude around which to retrieve place information. This must be specified as latitude,longitude.\n",
    "\n",
    "radius — Defines the distance (in meters) within which to return place results. The maximum allowed radius is 50 000 meters. Note that radius must not be included if rankby=distance (described under Optional parameters below) is specified.\n",
    "Optional parameters\n",
    "\n",
    "keyword — A term to be matched against all content that Google has indexed for this place, including but not limited to name, type, and address, as well as customer reviews and other third-party content.\n",
    "\n",
    "type — Restricts the results to places matching the specified type. Only one type may be specified (if more than one type is provided, all types following the first entry are ignored). See the list of supported types.\n",
    "\n",
    "https://developers.google.com/places/web-service/search\n"
   ]
  },
  {
   "cell_type": "markdown",
   "metadata": {},
   "source": [
    "# Last milestone met: Identification of hotel, address Lat and LON"
   ]
  },
  {
   "cell_type": "code",
   "execution_count": 101,
   "metadata": {
    "scrolled": false
   },
   "outputs": [],
   "source": [
    "# Identifies Hotels, address, and longitude and latitude of the Hotel\n",
    "### works well\n",
    "\n",
    "Hotel_Name = []\n",
    "hotel_address = []\n",
    "hotel_rating = []\n",
    "\n",
    "hotel_lat = []\n",
    "hotel_lon = []\n",
    "\n",
    "\n",
    "\n",
    "\n",
    "# params dictionary to update each iteration\n",
    "params = {\n",
    "            \"radius\": 50000,\n",
    "            \"types\": \"lodging\",\n",
    "            \"keyword\": \"hotel\",\n",
    "            \"key\": g_key\n",
    "}\n",
    "\n",
    "# Use the lat/lng we recovered to identify airports\n",
    "\n",
    "for index, row in mod_temp_df.iterrows():\n",
    "    \n",
    "\n",
    "    \n",
    "    # get lat, lng from df\n",
    "    lat = row[\"Latitude\"]\n",
    "    lng = row[\"Longitude\"]\n",
    "\n",
    "    # change location each iteration while leaving original params in place\n",
    "    params[\"location\"] = f\"{lat},{lng}\"\n",
    "\n",
    "    # Use the search term: \"International Airport\" and our lat/lng\n",
    "    base_url = \"https://maps.googleapis.com/maps/api/place/nearbysearch/json\"\n",
    "    \n",
    "\n",
    "    \n",
    "#make request and print url\n",
    "\n",
    "    name_address = requests.get(base_url, params=params)\n",
    "    #print(name_address)\n",
    "\n",
    "########     print the name_address url, avoid doing for public github repos in order to avoid exposing key\n",
    "    #print(name_address.url)\n",
    " #########   # convert to json\n",
    "    name_address = name_address.json()\n",
    "#    print(json.dumps(name_address, indent=4, sort_keys=True))\n",
    "\n",
    "#name_address\n",
    "\n",
    "    # Since some data may be missing we incorporate a try-except to skip any that are missing a data point.\n",
    "    \n",
    "    \n",
    "    try:\n",
    "####################   Stratagy 1 gets a new datafame based on hotel. Prefered method\n",
    "###################    Works well but can't find a way to get country and city data from json\n",
    "####################   Cant revese look up but working on it\n",
    "\n",
    "        #list stratagy for new data frame does not have country\n",
    "        Hotel_Name.append(name_address[\"results\"][0][\"name\"])\n",
    "        hotel_address.append(name_address[\"results\"][0][\"vicinity\"])\n",
    "        hotel_rating.append(name_address[\"results\"][0][\"rating\"])\n",
    "        \n",
    "        hotel_lat.append(name_address[\"results\"][0][\"geometry\"][\"location\"][\"lat\" ])\n",
    "        hotel_lon.append(name_address[\"results\"][0][\"geometry\"][\"location\"][\"lng\"])\n",
    "        \n",
    "        \n",
    "###############       Stratagy two: \n",
    "################   adds hotel name and street addres data, json does not have country or city\n",
    "################   data for the hotel. This dataframe will have the city from the orginal\n",
    "################   search but not the hotel city data. Needs a reverse look up.\n",
    "\n",
    "\n",
    "        #mod_temp_df.loc[index,\"Hotel Name\"] = name_address[\"results\"][0][\"name\"]\n",
    "        #mod_temp_df.loc[index,\"Hotel Address\"] = name_address[\"results\"][0][\"vicinity\"]\n",
    "        #mod_temp_df.loc[index,\"Hotel Rating\"] = name_address[\"results\"][0][\"rating\"]\n",
    "        \n",
    "        #mod_temp_df.loc[index,\"Lat\"] = name_address[\"results\"][0][\"geometry\"][\"location\"][\"lat\" ]\n",
    "        #mod_temp_df.loc[index,\"Lon\"] = name_address[\"results\"][0][\"geometry\"][\"location\"][\"lng\"]\n",
    "\n",
    "\n",
    "    \n",
    "    except (KeyError, IndexError):\n",
    "        print(\"Hotel not found\")\n"
   ]
  },
  {
   "cell_type": "code",
   "execution_count": 110,
   "metadata": {},
   "outputs": [
    {
     "name": "stdout",
     "output_type": "stream",
     "text": [
      "['Radisson Blu Hotel Diyarbakir', 'Rising Sun Lodge', 'Bungalow le Prestige']\n"
     ]
    }
   ],
   "source": [
    "#chec hotel name list probably delete\n",
    "print(Hotel_Name)"
   ]
  },
  {
   "cell_type": "code",
   "execution_count": 112,
   "metadata": {},
   "outputs": [
    {
     "data": {
      "text/html": [
       "<div>\n",
       "<style scoped>\n",
       "    .dataframe tbody tr th:only-of-type {\n",
       "        vertical-align: middle;\n",
       "    }\n",
       "\n",
       "    .dataframe tbody tr th {\n",
       "        vertical-align: top;\n",
       "    }\n",
       "\n",
       "    .dataframe thead th {\n",
       "        text-align: right;\n",
       "    }\n",
       "</style>\n",
       "<table border=\"1\" class=\"dataframe\">\n",
       "  <thead>\n",
       "    <tr style=\"text-align: right;\">\n",
       "      <th></th>\n",
       "      <th>Hotel Name</th>\n",
       "      <th>Hotel Address</th>\n",
       "      <th>Hotel Rating</th>\n",
       "      <th>Lat</th>\n",
       "      <th>Lng</th>\n",
       "    </tr>\n",
       "  </thead>\n",
       "  <tbody>\n",
       "    <tr>\n",
       "      <th>0</th>\n",
       "      <td>Radisson Blu Hotel Diyarbakir</td>\n",
       "      <td>Fırat, Şanlıurfa Blv. No 170, Kayapınar</td>\n",
       "      <td>4.4</td>\n",
       "      <td>37.921952</td>\n",
       "      <td>40.147579</td>\n",
       "    </tr>\n",
       "    <tr>\n",
       "      <th>1</th>\n",
       "      <td>Rising Sun Lodge</td>\n",
       "      <td>Section 16, Lot 36,, Arawa</td>\n",
       "      <td>3.7</td>\n",
       "      <td>-6.233893</td>\n",
       "      <td>155.566209</td>\n",
       "    </tr>\n",
       "    <tr>\n",
       "      <th>2</th>\n",
       "      <td>Bungalow le Prestige</td>\n",
       "      <td>Ambalamangahazo</td>\n",
       "      <td>4.0</td>\n",
       "      <td>-19.903613</td>\n",
       "      <td>48.812832</td>\n",
       "    </tr>\n",
       "  </tbody>\n",
       "</table>\n",
       "</div>"
      ],
      "text/plain": [
       "                      Hotel Name                            Hotel Address  \\\n",
       "0  Radisson Blu Hotel Diyarbakir  Fırat, Şanlıurfa Blv. No 170, Kayapınar   \n",
       "1               Rising Sun Lodge               Section 16, Lot 36,, Arawa   \n",
       "2           Bungalow le Prestige                          Ambalamangahazo   \n",
       "\n",
       "   Hotel Rating        Lat         Lng  \n",
       "0           4.4  37.921952   40.147579  \n",
       "1           3.7  -6.233893  155.566209  \n",
       "2           4.0 -19.903613   48.812832  "
      ]
     },
     "execution_count": 112,
     "metadata": {},
     "output_type": "execute_result"
    }
   ],
   "source": [
    "# zips hotel dataframe\n",
    "hotel_df = pd.DataFrame(list(zip(Hotel_Name, hotel_address, hotel_rating, hotel_lat, hotel_lon)), \n",
    "                    columns =[\"Hotel Name\", \"Hotel Address\", \"Hotel Rating\", \"Lat\", \"Lng\"])\n",
    "hotel_df "
   ]
  },
  {
   "cell_type": "markdown",
   "metadata": {},
   "source": [
    "# was not able to generate successful code after this point"
   ]
  },
  {
   "cell_type": "code",
   "execution_count": null,
   "metadata": {},
   "outputs": [],
   "source": []
  },
  {
   "cell_type": "code",
   "execution_count": null,
   "metadata": {},
   "outputs": [],
   "source": []
  },
  {
   "cell_type": "code",
   "execution_count": 106,
   "metadata": {},
   "outputs": [
    {
     "data": {
      "text/html": [
       "<div>\n",
       "<style scoped>\n",
       "    .dataframe tbody tr th:only-of-type {\n",
       "        vertical-align: middle;\n",
       "    }\n",
       "\n",
       "    .dataframe tbody tr th {\n",
       "        vertical-align: top;\n",
       "    }\n",
       "\n",
       "    .dataframe thead th {\n",
       "        text-align: right;\n",
       "    }\n",
       "</style>\n",
       "<table border=\"1\" class=\"dataframe\">\n",
       "  <thead>\n",
       "    <tr style=\"text-align: right;\">\n",
       "      <th></th>\n",
       "      <th>Unnamed: 0</th>\n",
       "      <th>City ID</th>\n",
       "      <th>City</th>\n",
       "      <th>Country Code</th>\n",
       "      <th>Latitude</th>\n",
       "      <th>Longitude</th>\n",
       "      <th>Temp Kelvin</th>\n",
       "      <th>Temp C</th>\n",
       "      <th>Temp F</th>\n",
       "      <th>Humidity (RH)%</th>\n",
       "      <th>Cloud% Cover</th>\n",
       "      <th>wind speed (m/s)</th>\n",
       "      <th>wind speed (mph)</th>\n",
       "      <th>Time stamp</th>\n",
       "    </tr>\n",
       "  </thead>\n",
       "  <tbody>\n",
       "    <tr>\n",
       "      <th>190</th>\n",
       "      <td>190</td>\n",
       "      <td>315468</td>\n",
       "      <td>Ergani</td>\n",
       "      <td>TR</td>\n",
       "      <td>38.27</td>\n",
       "      <td>39.76</td>\n",
       "      <td>299.10</td>\n",
       "      <td>26.0</td>\n",
       "      <td>79.0</td>\n",
       "      <td>36</td>\n",
       "      <td>0</td>\n",
       "      <td>2.10</td>\n",
       "      <td>4.67</td>\n",
       "      <td>['21 Oct 2020 09:01:15']</td>\n",
       "    </tr>\n",
       "    <tr>\n",
       "      <th>309</th>\n",
       "      <td>309</td>\n",
       "      <td>2094027</td>\n",
       "      <td>Kieta</td>\n",
       "      <td>PG</td>\n",
       "      <td>-6.22</td>\n",
       "      <td>155.63</td>\n",
       "      <td>299.44</td>\n",
       "      <td>26.0</td>\n",
       "      <td>79.0</td>\n",
       "      <td>77</td>\n",
       "      <td>0</td>\n",
       "      <td>1.46</td>\n",
       "      <td>3.24</td>\n",
       "      <td>['21 Oct 2020 09:01:15']</td>\n",
       "    </tr>\n",
       "    <tr>\n",
       "      <th>374</th>\n",
       "      <td>374</td>\n",
       "      <td>1062553</td>\n",
       "      <td>Mahanoro</td>\n",
       "      <td>MG</td>\n",
       "      <td>-19.90</td>\n",
       "      <td>48.80</td>\n",
       "      <td>297.58</td>\n",
       "      <td>24.0</td>\n",
       "      <td>76.0</td>\n",
       "      <td>64</td>\n",
       "      <td>0</td>\n",
       "      <td>2.34</td>\n",
       "      <td>5.20</td>\n",
       "      <td>['21 Oct 2020 09:01:15']</td>\n",
       "    </tr>\n",
       "  </tbody>\n",
       "</table>\n",
       "</div>"
      ],
      "text/plain": [
       "     Unnamed: 0  City ID      City Country Code  Latitude  Longitude  \\\n",
       "190         190   315468    Ergani           TR     38.27      39.76   \n",
       "309         309  2094027     Kieta           PG     -6.22     155.63   \n",
       "374         374  1062553  Mahanoro           MG    -19.90      48.80   \n",
       "\n",
       "     Temp Kelvin  Temp C  Temp F  Humidity (RH)%  Cloud% Cover  \\\n",
       "190       299.10    26.0    79.0              36             0   \n",
       "309       299.44    26.0    79.0              77             0   \n",
       "374       297.58    24.0    76.0              64             0   \n",
       "\n",
       "     wind speed (m/s)  wind speed (mph)                Time stamp  \n",
       "190              2.10              4.67  ['21 Oct 2020 09:01:15']  \n",
       "309              1.46              3.24  ['21 Oct 2020 09:01:15']  \n",
       "374              2.34              5.20  ['21 Oct 2020 09:01:15']  "
      ]
     },
     "execution_count": 106,
     "metadata": {},
     "output_type": "execute_result"
    }
   ],
   "source": [
    "#pulled down to help solve problem of gettng citties and countries for hotel_DF\n",
    "mod_temp_df"
   ]
  },
  {
   "cell_type": "code",
   "execution_count": 146,
   "metadata": {},
   "outputs": [
    {
     "data": {
      "text/html": [
       "<div>\n",
       "<style scoped>\n",
       "    .dataframe tbody tr th:only-of-type {\n",
       "        vertical-align: middle;\n",
       "    }\n",
       "\n",
       "    .dataframe tbody tr th {\n",
       "        vertical-align: top;\n",
       "    }\n",
       "\n",
       "    .dataframe thead th {\n",
       "        text-align: right;\n",
       "    }\n",
       "</style>\n",
       "<table border=\"1\" class=\"dataframe\">\n",
       "  <thead>\n",
       "    <tr style=\"text-align: right;\">\n",
       "      <th></th>\n",
       "      <th>Hotel Name</th>\n",
       "      <th>Hotel Address</th>\n",
       "      <th>Hotel Rating</th>\n",
       "      <th>Lat</th>\n",
       "      <th>Lng</th>\n",
       "      <th>lat,lng</th>\n",
       "    </tr>\n",
       "  </thead>\n",
       "  <tbody>\n",
       "    <tr>\n",
       "      <th>0</th>\n",
       "      <td>Radisson Blu Hotel Diyarbakir</td>\n",
       "      <td>Fırat, Şanlıurfa Blv. No 170, Kayapınar</td>\n",
       "      <td>4.4</td>\n",
       "      <td>37.921952</td>\n",
       "      <td>40.147579</td>\n",
       "      <td></td>\n",
       "    </tr>\n",
       "    <tr>\n",
       "      <th>1</th>\n",
       "      <td>Rising Sun Lodge</td>\n",
       "      <td>Section 16, Lot 36,, Arawa</td>\n",
       "      <td>3.7</td>\n",
       "      <td>-6.233893</td>\n",
       "      <td>155.566209</td>\n",
       "      <td></td>\n",
       "    </tr>\n",
       "    <tr>\n",
       "      <th>2</th>\n",
       "      <td>Bungalow le Prestige</td>\n",
       "      <td>Ambalamangahazo</td>\n",
       "      <td>4.0</td>\n",
       "      <td>-19.903613</td>\n",
       "      <td>48.812832</td>\n",
       "      <td></td>\n",
       "    </tr>\n",
       "  </tbody>\n",
       "</table>\n",
       "</div>"
      ],
      "text/plain": [
       "                      Hotel Name                            Hotel Address  \\\n",
       "0  Radisson Blu Hotel Diyarbakir  Fırat, Şanlıurfa Blv. No 170, Kayapınar   \n",
       "1               Rising Sun Lodge               Section 16, Lot 36,, Arawa   \n",
       "2           Bungalow le Prestige                          Ambalamangahazo   \n",
       "\n",
       "   Hotel Rating        Lat         Lng lat,lng  \n",
       "0           4.4  37.921952   40.147579          \n",
       "1           3.7  -6.233893  155.566209          \n",
       "2           4.0 -19.903613   48.812832          "
      ]
     },
     "execution_count": 146,
     "metadata": {},
     "output_type": "execute_result"
    }
   ],
   "source": [
    "# Add column to catinate Lat and Lon to for geo search\n",
    "hotel_df[\"lat,lng\"] = \"\"\n",
    "hotel_df "
   ]
  },
  {
   "cell_type": "code",
   "execution_count": 145,
   "metadata": {},
   "outputs": [
    {
     "data": {
      "text/plain": [
       "0    [[Lat], [Lng]]\n",
       "1    [[Lat], [Lng]]\n",
       "2    [[Lat], [Lng]]\n",
       "dtype: object"
      ]
     },
     "execution_count": 145,
     "metadata": {},
     "output_type": "execute_result"
    }
   ],
   "source": [
    "hotel_df.apply(lambda x: [[\"Lat\"], [\"Lng\"]], axis=1)"
   ]
  },
  {
   "cell_type": "code",
   "execution_count": 144,
   "metadata": {},
   "outputs": [
    {
     "data": {
      "text/html": [
       "<div>\n",
       "<style scoped>\n",
       "    .dataframe tbody tr th:only-of-type {\n",
       "        vertical-align: middle;\n",
       "    }\n",
       "\n",
       "    .dataframe tbody tr th {\n",
       "        vertical-align: top;\n",
       "    }\n",
       "\n",
       "    .dataframe thead th {\n",
       "        text-align: right;\n",
       "    }\n",
       "</style>\n",
       "<table border=\"1\" class=\"dataframe\">\n",
       "  <thead>\n",
       "    <tr style=\"text-align: right;\">\n",
       "      <th></th>\n",
       "      <th>Hotel Name</th>\n",
       "      <th>Hotel Address</th>\n",
       "      <th>Hotel Rating</th>\n",
       "      <th>Lat</th>\n",
       "      <th>Lng</th>\n",
       "      <th>lat,lng</th>\n",
       "    </tr>\n",
       "  </thead>\n",
       "  <tbody>\n",
       "    <tr>\n",
       "      <th>0</th>\n",
       "      <td>Radisson Blu Hotel Diyarbakir</td>\n",
       "      <td>Fırat, Şanlıurfa Blv. No 170, Kayapınar</td>\n",
       "      <td>4.4</td>\n",
       "      <td>37.921952</td>\n",
       "      <td>40.147579</td>\n",
       "      <td></td>\n",
       "    </tr>\n",
       "    <tr>\n",
       "      <th>1</th>\n",
       "      <td>Rising Sun Lodge</td>\n",
       "      <td>Section 16, Lot 36,, Arawa</td>\n",
       "      <td>3.7</td>\n",
       "      <td>-6.233893</td>\n",
       "      <td>155.566209</td>\n",
       "      <td></td>\n",
       "    </tr>\n",
       "    <tr>\n",
       "      <th>2</th>\n",
       "      <td>Bungalow le Prestige</td>\n",
       "      <td>Ambalamangahazo</td>\n",
       "      <td>4.0</td>\n",
       "      <td>-19.903613</td>\n",
       "      <td>48.812832</td>\n",
       "      <td></td>\n",
       "    </tr>\n",
       "  </tbody>\n",
       "</table>\n",
       "</div>"
      ],
      "text/plain": [
       "                      Hotel Name                            Hotel Address  \\\n",
       "0  Radisson Blu Hotel Diyarbakir  Fırat, Şanlıurfa Blv. No 170, Kayapınar   \n",
       "1               Rising Sun Lodge               Section 16, Lot 36,, Arawa   \n",
       "2           Bungalow le Prestige                          Ambalamangahazo   \n",
       "\n",
       "   Hotel Rating        Lat         Lng lat,lng  \n",
       "0           4.4  37.921952   40.147579          \n",
       "1           3.7  -6.233893  155.566209          \n",
       "2           4.0 -19.903613   48.812832          "
      ]
     },
     "execution_count": 144,
     "metadata": {},
     "output_type": "execute_result"
    }
   ],
   "source": [
    "hotel_df"
   ]
  },
  {
   "cell_type": "code",
   "execution_count": null,
   "metadata": {},
   "outputs": [],
   "source": []
  },
  {
   "cell_type": "code",
   "execution_count": 141,
   "metadata": {},
   "outputs": [],
   "source": [
    "# convert lat and long to list for futhr maipulation\n",
    "\n",
    "lat_hotel_list = hotel_df[\"Lat\"].values.tolist()\n",
    "lng_hotel_list = hotel_df[\"Lng\"].values.tolist()"
   ]
  },
  {
   "cell_type": "code",
   "execution_count": 148,
   "metadata": {},
   "outputs": [
    {
     "data": {
      "text/plain": [
       "'(56, 2222),9000000'"
      ]
     },
     "execution_count": 148,
     "metadata": {},
     "output_type": "execute_result"
    }
   ],
   "source": [
    "#Attempt\n",
    "\n",
    "x =56,2222\n",
    "y= 9000000\n",
    "\n",
    "#for lat in lat_hotel_list\n",
    "el_coord = f\"{x},{y}\"\n",
    "\n",
    "el_coord"
   ]
  },
  {
   "cell_type": "code",
   "execution_count": null,
   "metadata": {},
   "outputs": [],
   "source": [
    "# attempt\n",
    "df['lat,lng'] = df['ADDRESS'].apply(geocode)"
   ]
  },
  {
   "cell_type": "code",
   "execution_count": 140,
   "metadata": {},
   "outputs": [
    {
     "data": {
      "text/plain": [
       "'[37.9219524, -6.2338932, -19.9036128],[40.1475795, 155.5662086, 48.8128319]'"
      ]
     },
     "execution_count": 140,
     "metadata": {},
     "output_type": "execute_result"
    }
   ],
   "source": [
    "#attempt : to concantiate lat and long 1\n",
    "lat_hotel_list = hotel_df[\"Lat\"].values.tolist()\n",
    "lng_hotel_list = hotel_df[\"Lng\"].values.tolist()\n",
    "\n",
    "hotel_coord =[]\n",
    "\n",
    "for lat in lat_hotel_list:\n",
    "    hotel_coord = f\"{lat_hotel_list},{lng_hotel_list}\"\n",
    "\n",
    "hotel_coord"
   ]
  },
  {
   "cell_type": "code",
   "execution_count": 134,
   "metadata": {},
   "outputs": [
    {
     "data": {
      "text/plain": [
       "'0    37.921952\\n1    -6.233893\\n2   -19.903613\\nName: Lat, dtype: float64,0     40.147579\\n1    155.566209\\n2     48.812832\\nName: Lng, dtype: float64'"
      ]
     },
     "execution_count": 134,
     "metadata": {},
     "output_type": "execute_result"
    }
   ],
   "source": [
    "#attempt : to concantiate lat and long 1\n",
    "# catinate lat and lON into lat,lon\n",
    "# dosnt work\n",
    "hotel_coord = []\n",
    "\n",
    "for hotel in hotel_df.iterrows():    \n",
    "    hotel_coord = f\"{lat},{lng}\"\n",
    "    \n",
    "hotel_coord"
   ]
  },
  {
   "cell_type": "code",
   "execution_count": 129,
   "metadata": {},
   "outputs": [
    {
     "data": {
      "text/plain": [
       "0    37.921952\n",
       "1    -6.233893\n",
       "2   -19.903613\n",
       "Name: Lat, dtype: float64"
      ]
     },
     "execution_count": 129,
     "metadata": {},
     "output_type": "execute_result"
    }
   ],
   "source": [
    "lat"
   ]
  },
  {
   "cell_type": "code",
   "execution_count": null,
   "metadata": {},
   "outputs": [],
   "source": []
  },
  {
   "cell_type": "code",
   "execution_count": 124,
   "metadata": {
    "scrolled": false
   },
   "outputs": [
    {
     "name": "stdout",
     "output_type": "stream",
     "text": [
      "[]\n",
      "['Diyarbakır, Turkey', 'Diyarbakır, Turkey', 'Diyarbakır, Turkey']\n"
     ]
    }
   ],
   "source": [
    "# Use for revese look up recycled from preivous result. need difrent base urls\n",
    "# gets a city and country with a hard coded coridnate\n",
    "# also would set up a new data frame with hotel city,country\n",
    "# fails because I am not able to concantinate lat and lon to pass through the api call\n",
    "\n",
    "# Hotel variable\n",
    "hotel_addresF = []\n",
    "hotel_addresCC =[]\n",
    "\n",
    "# Loop through narrowed down dataframe to get nearest hotel\n",
    "#for hotel in range(len(hotel_df[\"Hotel Name\"])):\n",
    "\n",
    "#for hotel in hotel_df.iterrows():\n",
    "    \n",
    "    #lat = hotel_df.loc[city][\"Lat\"]\n",
    "    #lng = hotel_df.loc[city][\"Lng\"]\n",
    "    \n",
    "    #hotel_coords = f\"{lat},{lng}\"\n",
    "    \n",
    "    #params = {\n",
    "        #\"location\": hotel_coords, \n",
    "        #\"types\": \"lodging\",\n",
    "        #\"radius\": 1,\n",
    "        #\"key\": g_key\n",
    "    #}\n",
    "    #####################################################\n",
    "    #geocode url\n",
    "    #geo_base_url = \"https://maps.googleapis.com/maps/api/geocode/json\"\n",
    "    \n",
    "    #params_Q = {\n",
    "        #\"location\": hotel_coords_hardcode,\n",
    "        #\"types\": hotel,\n",
    "        #\"radius\": 1,\n",
    "        #\"key\": g_key\n",
    "    #}\n",
    "    \n",
    "    #this url is same as above. JSON will not give city and country data\n",
    "Nearby_base_url = \"https://maps.googleapis.com/maps/api/place/nearbysearch/json\"\n",
    "    \n",
    "# Text search\n",
    "#text_base_url = \"https://maps.googleapis.com/maps/api/place/textsearch/json\"\n",
    "\n",
    "\n",
    "# Text search\n",
    "#    text_base_url = \"https://maps.googleapis.com/maps/api/place/textsearch/json\"\n",
    "\n",
    "#test_hotel_loop = hotel_df[\"Hotel Address\"]\n",
    "    \n",
    "# Text search\n",
    "#params = {\n",
    "##\"query\": \"test_hotel_loop\",\n",
    "#    key\": g_key\n",
    "        \n",
    "#    }\n",
    "    \n",
    "\n",
    "x = \"37.921952,40.147579\"\n",
    "\n",
    "\n",
    "    \n",
    "for hotel in hotel_df[\"Hotel Address\"]:\n",
    "     \n",
    "    params_Q = {\n",
    "        \"location\": x,\n",
    "        \"types\": hotel,\n",
    "        \"radius\": 100,\n",
    "        \"key\": g_key\n",
    "    }\n",
    "    \n",
    "   \n",
    "    # Text search\n",
    "    text_base_url = \"https://maps.googleapis.com/maps/api/place/textsearch/json\"\n",
    "    \n",
    "    text_base_2_url = \"https://maps.googleapis.com/maps/api/place/textsearch/json\"\n",
    "    \n",
    "    response = requests.get(text_base_url, params = params_Q)\n",
    "    \n",
    "    #print(response)\n",
    "    \n",
    "    \n",
    "    hotel_location = response.json()\n",
    "    \n",
    "        #print(hotel_location)\n",
    "    #print(json.dumps(hotel_location, indent=4, sort_keys=True))\n",
    "    try:\n",
    "        #hotel_df.loc[index,\"Match Address\"] = name_address[\"results\"][0][\"formatted_address\"]\n",
    "        #hotel_df.loc[index, \"hotel_Lat\"] = name_address[\"results\"][0][\"geometry\"][\"location\"][\"lat\"]\n",
    "        hotel_addresF.append(hotel_location[\"results\"][0][\"formatted_address\"])\n",
    "        hotel_addresCC.append(hotel_location[\"results\"][0][\"plus_code\"][\"compound_code\"])\n",
    "        \n",
    "    except:\n",
    "        pass \n",
    "\n",
    "print(hotel_addresCC)\n",
    "#print(\"\")\n",
    "print(hotel_addresF)"
   ]
  },
  {
   "cell_type": "code",
   "execution_count": 30,
   "metadata": {},
   "outputs": [
    {
     "data": {
      "text/plain": [
       "[]"
      ]
     },
     "execution_count": 30,
     "metadata": {},
     "output_type": "execute_result"
    }
   ],
   "source": [
    "hotel_addresCC"
   ]
  },
  {
   "cell_type": "code",
   "execution_count": 31,
   "metadata": {},
   "outputs": [
    {
     "data": {
      "text/html": [
       "<div>\n",
       "<style scoped>\n",
       "    .dataframe tbody tr th:only-of-type {\n",
       "        vertical-align: middle;\n",
       "    }\n",
       "\n",
       "    .dataframe tbody tr th {\n",
       "        vertical-align: top;\n",
       "    }\n",
       "\n",
       "    .dataframe thead th {\n",
       "        text-align: right;\n",
       "    }\n",
       "</style>\n",
       "<table border=\"1\" class=\"dataframe\">\n",
       "  <thead>\n",
       "    <tr style=\"text-align: right;\">\n",
       "      <th></th>\n",
       "      <th>Hotel Name</th>\n",
       "      <th>Hotel Address</th>\n",
       "      <th>Hotel Rating</th>\n",
       "      <th>Lat</th>\n",
       "      <th>Lng</th>\n",
       "      <th>Match Address</th>\n",
       "    </tr>\n",
       "  </thead>\n",
       "  <tbody>\n",
       "    <tr>\n",
       "      <th>0</th>\n",
       "      <td>The Green Park Hotel Diyarbakır *****</td>\n",
       "      <td>No:, Gazi Cd. No:21, Sur</td>\n",
       "      <td>4.6</td>\n",
       "      <td>37.910188</td>\n",
       "      <td>40.236627</td>\n",
       "      <td></td>\n",
       "    </tr>\n",
       "    <tr>\n",
       "      <th>1</th>\n",
       "      <td>Rising Sun Lodge</td>\n",
       "      <td>Section 16, Lot 36,, Arawa</td>\n",
       "      <td>3.7</td>\n",
       "      <td>-6.233893</td>\n",
       "      <td>155.566209</td>\n",
       "      <td></td>\n",
       "    </tr>\n",
       "    <tr>\n",
       "      <th>2</th>\n",
       "      <td>Bungalow le Prestige</td>\n",
       "      <td>Ambalamangahazo</td>\n",
       "      <td>4.0</td>\n",
       "      <td>-19.903613</td>\n",
       "      <td>48.812832</td>\n",
       "      <td></td>\n",
       "    </tr>\n",
       "  </tbody>\n",
       "</table>\n",
       "</div>"
      ],
      "text/plain": [
       "                              Hotel Name               Hotel Address  \\\n",
       "0  The Green Park Hotel Diyarbakır *****    No:, Gazi Cd. No:21, Sur   \n",
       "1                       Rising Sun Lodge  Section 16, Lot 36,, Arawa   \n",
       "2                   Bungalow le Prestige             Ambalamangahazo   \n",
       "\n",
       "   Hotel Rating        Lat         Lng Match Address  \n",
       "0           4.6  37.910188   40.236627                \n",
       "1           3.7  -6.233893  155.566209                \n",
       "2           4.0 -19.903613   48.812832                "
      ]
     },
     "execution_count": 31,
     "metadata": {},
     "output_type": "execute_result"
    }
   ],
   "source": [
    "hotel_df"
   ]
  },
  {
   "cell_type": "code",
   "execution_count": 149,
   "metadata": {
    "scrolled": true
   },
   "outputs": [
    {
     "name": "stdout",
     "output_type": "stream",
     "text": [
      "0    Fırat, Şanlıurfa Blv. No 170, Kayapınar\n",
      "1                 Section 16, Lot 36,, Arawa\n",
      "2                            Ambalamangahazo\n",
      "Name: Hotel Address, dtype: object\n"
     ]
    }
   ],
   "source": [
    "twar =[]\n",
    "\n",
    "for hotel in hotel_df[\"Hotel Address\"]:\n",
    "    twar = hotel_df[\"Hotel Address\"]\n",
    "print(twar)\n",
    "    \n",
    "    "
   ]
  },
  {
   "cell_type": "code",
   "execution_count": 150,
   "metadata": {},
   "outputs": [
    {
     "ename": "UnboundLocalError",
     "evalue": "local variable 'name_address' referenced before assignment",
     "output_type": "error",
     "traceback": [
      "\u001b[1;31m---------------------------------------------------------------------------\u001b[0m",
      "\u001b[1;31mUnboundLocalError\u001b[0m                         Traceback (most recent call last)",
      "\u001b[1;32m<ipython-input-150-f25992d7fcfa>\u001b[0m in \u001b[0;36masync-def-wrapper\u001b[1;34m()\u001b[0m\n\u001b[0;32m      5\u001b[0m \u001b[1;31m#    print(json.dumps(name_address, indent=4, sort_keys=True))\u001b[0m\u001b[1;33m\u001b[0m\u001b[1;33m\u001b[0m\u001b[1;33m\u001b[0m\u001b[0m\n",
      "\u001b[1;31mUnboundLocalError\u001b[0m: local variable 'name_address' referenced before assignment"
     ]
    }
   ],
   "source": [
    "########     print the name_address url, avoid doing for public github repos in order to avoid exposing key\n",
    "    #print(name_address.url)\n",
    " #########   # convert to json\n",
    "    name_address = name_address.json()\n",
    "#    print(json.dumps(name_address, indent=4, sort_keys=True))"
   ]
  },
  {
   "cell_type": "code",
   "execution_count": 151,
   "metadata": {},
   "outputs": [
    {
     "data": {
      "text/html": [
       "<div>\n",
       "<style scoped>\n",
       "    .dataframe tbody tr th:only-of-type {\n",
       "        vertical-align: middle;\n",
       "    }\n",
       "\n",
       "    .dataframe tbody tr th {\n",
       "        vertical-align: top;\n",
       "    }\n",
       "\n",
       "    .dataframe thead th {\n",
       "        text-align: right;\n",
       "    }\n",
       "</style>\n",
       "<table border=\"1\" class=\"dataframe\">\n",
       "  <thead>\n",
       "    <tr style=\"text-align: right;\">\n",
       "      <th></th>\n",
       "      <th>Hotel Name</th>\n",
       "      <th>Hotel Address</th>\n",
       "      <th>Hotel Rating</th>\n",
       "      <th>Lat</th>\n",
       "      <th>Lng</th>\n",
       "      <th>lat,lng</th>\n",
       "    </tr>\n",
       "  </thead>\n",
       "  <tbody>\n",
       "    <tr>\n",
       "      <th>0</th>\n",
       "      <td>Radisson Blu Hotel Diyarbakir</td>\n",
       "      <td>Fırat, Şanlıurfa Blv. No 170, Kayapınar</td>\n",
       "      <td>4.4</td>\n",
       "      <td>37.921952</td>\n",
       "      <td>40.147579</td>\n",
       "      <td></td>\n",
       "    </tr>\n",
       "    <tr>\n",
       "      <th>1</th>\n",
       "      <td>Rising Sun Lodge</td>\n",
       "      <td>Section 16, Lot 36,, Arawa</td>\n",
       "      <td>3.7</td>\n",
       "      <td>-6.233893</td>\n",
       "      <td>155.566209</td>\n",
       "      <td></td>\n",
       "    </tr>\n",
       "    <tr>\n",
       "      <th>2</th>\n",
       "      <td>Bungalow le Prestige</td>\n",
       "      <td>Ambalamangahazo</td>\n",
       "      <td>4.0</td>\n",
       "      <td>-19.903613</td>\n",
       "      <td>48.812832</td>\n",
       "      <td></td>\n",
       "    </tr>\n",
       "  </tbody>\n",
       "</table>\n",
       "</div>"
      ],
      "text/plain": [
       "                      Hotel Name                            Hotel Address  \\\n",
       "0  Radisson Blu Hotel Diyarbakir  Fırat, Şanlıurfa Blv. No 170, Kayapınar   \n",
       "1               Rising Sun Lodge               Section 16, Lot 36,, Arawa   \n",
       "2           Bungalow le Prestige                          Ambalamangahazo   \n",
       "\n",
       "   Hotel Rating        Lat         Lng lat,lng  \n",
       "0           4.4  37.921952   40.147579          \n",
       "1           3.7  -6.233893  155.566209          \n",
       "2           4.0 -19.903613   48.812832          "
      ]
     },
     "execution_count": 151,
     "metadata": {},
     "output_type": "execute_result"
    }
   ],
   "source": [
    "hotel_df "
   ]
  },
  {
   "cell_type": "code",
   "execution_count": null,
   "metadata": {},
   "outputs": [],
   "source": []
  },
  {
   "cell_type": "code",
   "execution_count": null,
   "metadata": {},
   "outputs": [],
   "source": []
  },
  {
   "cell_type": "code",
   "execution_count": null,
   "metadata": {},
   "outputs": [],
   "source": []
  },
  {
   "cell_type": "code",
   "execution_count": null,
   "metadata": {},
   "outputs": [],
   "source": []
  },
  {
   "cell_type": "code",
   "execution_count": null,
   "metadata": {},
   "outputs": [],
   "source": []
  },
  {
   "cell_type": "code",
   "execution_count": null,
   "metadata": {},
   "outputs": [],
   "source": []
  },
  {
   "cell_type": "code",
   "execution_count": 152,
   "metadata": {},
   "outputs": [
    {
     "ename": "SyntaxError",
     "evalue": "invalid syntax (<ipython-input-152-953b9a528ecd>, line 9)",
     "output_type": "error",
     "traceback": [
      "\u001b[1;36m  File \u001b[1;32m\"<ipython-input-152-953b9a528ecd>\"\u001b[1;36m, line \u001b[1;32m9\u001b[0m\n\u001b[1;33m    print(f\"{hotel_df[\"Lat\"]},{hotel_df[\"Lng\"]}\")\u001b[0m\n\u001b[1;37m                         ^\u001b[0m\n\u001b[1;31mSyntaxError\u001b[0m\u001b[1;31m:\u001b[0m invalid syntax\n"
     ]
    }
   ],
   "source": [
    "H_lat=[]\n",
    "H_lon=[]\n",
    "cord = []\n",
    "\n",
    "\n",
    "for hotel in hotel_df[\"Hotel Address\"]:\n",
    "    H_lat = hotel_df[\"Lat\"]\n",
    "    H_lon = hotel_df[\"Lng\"]\n",
    "    print(f\"{hotel_df[\"Lat\"]},{hotel_df[\"Lng\"]}\")\n"
   ]
  },
  {
   "cell_type": "code",
   "execution_count": 53,
   "metadata": {},
   "outputs": [
    {
     "ename": "NameError",
     "evalue": "name 'city' is not defined",
     "output_type": "error",
     "traceback": [
      "\u001b[1;31m---------------------------------------------------------------------------\u001b[0m",
      "\u001b[1;31mNameError\u001b[0m                                 Traceback (most recent call last)",
      "\u001b[1;32m<ipython-input-53-d9bdeb2a0393>\u001b[0m in \u001b[0;36m<module>\u001b[1;34m\u001b[0m\n\u001b[0;32m      1\u001b[0m \u001b[1;32mfor\u001b[0m \u001b[0mhotel\u001b[0m \u001b[1;32min\u001b[0m \u001b[0mhotel_df\u001b[0m\u001b[1;33m[\u001b[0m\u001b[1;34m\"Hotel Address\"\u001b[0m\u001b[1;33m]\u001b[0m\u001b[1;33m:\u001b[0m\u001b[1;33m\u001b[0m\u001b[1;33m\u001b[0m\u001b[0m\n\u001b[1;32m----> 2\u001b[1;33m     \u001b[0mlat\u001b[0m \u001b[1;33m=\u001b[0m \u001b[0mhotel_df\u001b[0m\u001b[1;33m.\u001b[0m\u001b[0mloc\u001b[0m\u001b[1;33m[\u001b[0m\u001b[0mcity\u001b[0m\u001b[1;33m]\u001b[0m\u001b[1;33m[\u001b[0m\u001b[1;34m\"Lat\"\u001b[0m\u001b[1;33m]\u001b[0m\u001b[1;33m\u001b[0m\u001b[1;33m\u001b[0m\u001b[0m\n\u001b[0m\u001b[0;32m      3\u001b[0m     \u001b[0mlng\u001b[0m \u001b[1;33m=\u001b[0m \u001b[0mhotel_df\u001b[0m\u001b[1;33m.\u001b[0m\u001b[0mloc\u001b[0m\u001b[1;33m[\u001b[0m\u001b[0mcity\u001b[0m\u001b[1;33m]\u001b[0m\u001b[1;33m[\u001b[0m\u001b[1;34m\"Lng\"\u001b[0m\u001b[1;33m]\u001b[0m\u001b[1;33m\u001b[0m\u001b[1;33m\u001b[0m\u001b[0m\n\u001b[0;32m      4\u001b[0m \u001b[1;33m\u001b[0m\u001b[0m\n\u001b[0;32m      5\u001b[0m     \u001b[0mcity_coords\u001b[0m \u001b[1;33m=\u001b[0m \u001b[1;34mf\"{lat},{lng}\"\u001b[0m\u001b[1;33m\u001b[0m\u001b[1;33m\u001b[0m\u001b[0m\n",
      "\u001b[1;31mNameError\u001b[0m: name 'city' is not defined"
     ]
    }
   ],
   "source": [
    "for hotel in hotel_df[\"Hotel Address\"]:\n",
    "    lat = hotel_df.loc[city][\"Lat\"]\n",
    "    lng = hotel_df.loc[city][\"Lng\"]\n",
    "\n",
    "    city_coords = f\"{lat},{lng}\""
   ]
  },
  {
   "cell_type": "code",
   "execution_count": 154,
   "metadata": {},
   "outputs": [
    {
     "name": "stdout",
     "output_type": "stream",
     "text": [
      "Arawa\n",
      "Arawa, Papua New Guinea\n"
     ]
    }
   ],
   "source": [
    "#gets cordinate with hard coded lat and long\n",
    "# can not pass a list or data frame in the lat,lon format for geo lookup\n",
    "# another failed attemt\n",
    "# main attempt was to revist josn file to see if the data needed could be requested(city country of hotel)\n",
    "\n",
    "x = \"-6.233893,155.566209\"\n",
    "\n",
    "#lat = hotel_df.loc[city][\"Lat\"]\n",
    "#lng = hotel_df.loc[city][\"Lng\"]\n",
    "#lat = hotel_df[\"LAt\"]\n",
    "#lat = hotel_df[\"Lng\"]\n",
    "\n",
    "\n",
    "#for hotel in hotel_df[\"Hotel Address\"]:\n",
    "\n",
    "params_Q = {\n",
    "        \"location\": x,\n",
    "        \"types\": hotel,\n",
    "        \"radius\": 100,\n",
    "        \"key\": g_key\n",
    "}\n",
    "\n",
    "\n",
    "# Text search\n",
    "text_base_url = \"https://maps.googleapis.com/maps/api/place/textsearch/json\"\n",
    "\n",
    "text_base_2_url = \"https://maps.googleapis.com/maps/api/place/textsearch/json\"\n",
    "\n",
    "response = requests.get(text_base_url, params = params_Q)\n",
    "\n",
    "#print(response)\n",
    "\n",
    "\n",
    "hotel_location = response.json()\n",
    "\n",
    "#print(json.dumps(hotel_location, indent=4, sort_keys=True))\n",
    "\n",
    "#print(hotel_location[\"results\"][0][\"name\"])\n",
    "\n",
    "print(hotel_location[\"results\"][0][\"name\"])\n",
    "print(hotel_location[\"results\"][0][\"formatted_address\"])\n",
    "#print(hotel_location[\"results\"][0][\"plus_code\"]\n",
    "\n",
    "\n",
    "\n",
    "#print(json.dumps(hotel_location, indent=4, sort_keys=True))"
   ]
  },
  {
   "cell_type": "code",
   "execution_count": 43,
   "metadata": {},
   "outputs": [
    {
     "name": "stdout",
     "output_type": "stream",
     "text": [
      "Arawa\n",
      "Arawa, Papua New Guinea\n"
     ]
    }
   ],
   "source": [
    "\n",
    "print(hotel_location[\"results\"][0][\"name\"])\n",
    "print(hotel_location[\"results\"][0][\"formatted_address\"])"
   ]
  },
  {
   "cell_type": "code",
   "execution_count": 61,
   "metadata": {},
   "outputs": [
    {
     "data": {
      "text/html": [
       "<div>\n",
       "<style scoped>\n",
       "    .dataframe tbody tr th:only-of-type {\n",
       "        vertical-align: middle;\n",
       "    }\n",
       "\n",
       "    .dataframe tbody tr th {\n",
       "        vertical-align: top;\n",
       "    }\n",
       "\n",
       "    .dataframe thead th {\n",
       "        text-align: right;\n",
       "    }\n",
       "</style>\n",
       "<table border=\"1\" class=\"dataframe\">\n",
       "  <thead>\n",
       "    <tr style=\"text-align: right;\">\n",
       "      <th></th>\n",
       "      <th>Hotel Name</th>\n",
       "      <th>Hotel Address</th>\n",
       "      <th>Hotel Rating</th>\n",
       "      <th>Lat</th>\n",
       "      <th>Lng</th>\n",
       "      <th>Match Address</th>\n",
       "    </tr>\n",
       "  </thead>\n",
       "  <tbody>\n",
       "    <tr>\n",
       "      <th>0</th>\n",
       "      <td>The Green Park Hotel Diyarbakır *****</td>\n",
       "      <td>No:, Gazi Cd. No:21, Sur</td>\n",
       "      <td>4.6</td>\n",
       "      <td>37.910188</td>\n",
       "      <td>40.236627</td>\n",
       "      <td></td>\n",
       "    </tr>\n",
       "    <tr>\n",
       "      <th>1</th>\n",
       "      <td>Rising Sun Lodge</td>\n",
       "      <td>Section 16, Lot 36,, Arawa</td>\n",
       "      <td>3.7</td>\n",
       "      <td>-6.233893</td>\n",
       "      <td>155.566209</td>\n",
       "      <td></td>\n",
       "    </tr>\n",
       "    <tr>\n",
       "      <th>2</th>\n",
       "      <td>Bungalow le Prestige</td>\n",
       "      <td>Ambalamangahazo</td>\n",
       "      <td>4.0</td>\n",
       "      <td>-19.903613</td>\n",
       "      <td>48.812832</td>\n",
       "      <td></td>\n",
       "    </tr>\n",
       "  </tbody>\n",
       "</table>\n",
       "</div>"
      ],
      "text/plain": [
       "                              Hotel Name               Hotel Address  \\\n",
       "0  The Green Park Hotel Diyarbakır *****    No:, Gazi Cd. No:21, Sur   \n",
       "1                       Rising Sun Lodge  Section 16, Lot 36,, Arawa   \n",
       "2                   Bungalow le Prestige             Ambalamangahazo   \n",
       "\n",
       "   Hotel Rating        Lat         Lng Match Address  \n",
       "0           4.6  37.910188   40.236627                \n",
       "1           3.7  -6.233893  155.566209                \n",
       "2           4.0 -19.903613   48.812832                "
      ]
     },
     "execution_count": 61,
     "metadata": {},
     "output_type": "execute_result"
    }
   ],
   "source": [
    "hotel_df\n"
   ]
  },
  {
   "cell_type": "code",
   "execution_count": 76,
   "metadata": {},
   "outputs": [],
   "source": [
    "lat_hotel_list = hotel_df[\"Lat\"].values.tolist()\n",
    "lng_hotel_list = hotel_df[\"Lng\"].values.tolist()"
   ]
  },
  {
   "cell_type": "code",
   "execution_count": 84,
   "metadata": {},
   "outputs": [
    {
     "name": "stdout",
     "output_type": "stream",
     "text": [
      "0    37.910188\n",
      "1    -6.233893\n",
      "2   -19.903613\n",
      "Name: Lat, dtype: float64,0     40.236627\n",
      "1    155.566209\n",
      "2     48.812832\n",
      "Name: Lng, dtype: float64\n"
     ]
    },
    {
     "ename": "IndexError",
     "evalue": "list index out of range",
     "output_type": "error",
     "traceback": [
      "\u001b[1;31m---------------------------------------------------------------------------\u001b[0m",
      "\u001b[1;31mIndexError\u001b[0m                                Traceback (most recent call last)",
      "\u001b[1;32m<ipython-input-84-62244166be9a>\u001b[0m in \u001b[0;36m<module>\u001b[1;34m\u001b[0m\n\u001b[0;32m     45\u001b[0m     \u001b[1;31m#print(hotel_location[\"results\"][0][\"name\"])\u001b[0m\u001b[1;33m\u001b[0m\u001b[1;33m\u001b[0m\u001b[1;33m\u001b[0m\u001b[0m\n\u001b[0;32m     46\u001b[0m \u001b[1;33m\u001b[0m\u001b[0m\n\u001b[1;32m---> 47\u001b[1;33m     \u001b[0mprint\u001b[0m\u001b[1;33m(\u001b[0m\u001b[0mhotel_location\u001b[0m\u001b[1;33m[\u001b[0m\u001b[1;34m\"results\"\u001b[0m\u001b[1;33m]\u001b[0m\u001b[1;33m[\u001b[0m\u001b[1;36m0\u001b[0m\u001b[1;33m]\u001b[0m\u001b[1;33m[\u001b[0m\u001b[1;34m\"name\"\u001b[0m\u001b[1;33m]\u001b[0m\u001b[1;33m)\u001b[0m\u001b[1;33m\u001b[0m\u001b[1;33m\u001b[0m\u001b[0m\n\u001b[0m\u001b[0;32m     48\u001b[0m     \u001b[0mprint\u001b[0m\u001b[1;33m(\u001b[0m\u001b[0mhotel_location\u001b[0m\u001b[1;33m[\u001b[0m\u001b[1;34m\"results\"\u001b[0m\u001b[1;33m]\u001b[0m\u001b[1;33m[\u001b[0m\u001b[1;36m0\u001b[0m\u001b[1;33m]\u001b[0m\u001b[1;33m[\u001b[0m\u001b[1;34m\"formatted_address\"\u001b[0m\u001b[1;33m]\u001b[0m\u001b[1;33m)\u001b[0m\u001b[1;33m\u001b[0m\u001b[1;33m\u001b[0m\u001b[0m\n\u001b[0;32m     49\u001b[0m     \u001b[1;31m#print(hotel_location[\"results\"][0][\"plus_code\"]\u001b[0m\u001b[1;33m\u001b[0m\u001b[1;33m\u001b[0m\u001b[1;33m\u001b[0m\u001b[0m\n",
      "\u001b[1;31mIndexError\u001b[0m: list index out of range"
     ]
    }
   ],
   "source": [
    "# more attemps to loop lat and long through a loop\n",
    "\n",
    "hotel2_address = hotel_df.values.tolist()\n",
    "\n",
    "hotel_coords_list = []\n",
    "\n",
    "#lat = hotel_df.loc[city][\"Lat\"]\n",
    "#lng = hotel_df.loc[city][\"Lng\"]\n",
    "#lat = hotel_df[\"LAt\"]\n",
    "#lat = hotel_df[\"Lng\"]\n",
    "\n",
    "\n",
    "for Lat,Lng in hotel_df.iterrows():\n",
    "\n",
    "    lat = str(hotel_df[\"Lat\"])\n",
    "    lng = str(hotel_df[\"Lng\"])\n",
    "\n",
    "    hotel_coords = f\"{lat},{lng}\"\n",
    "    \n",
    "    \n",
    "   \n",
    "    \n",
    "    print(hotel_coords)\n",
    "\n",
    "    params_Q = {\n",
    "            \"location\": hotel_coords,\n",
    "            \"types\": hotel,\n",
    "            \"radius\": 100,\n",
    "            \"key\": g_key\n",
    "    }\n",
    "\n",
    "\n",
    "    # Text search\n",
    "    text_base_url = \"https://maps.googleapis.com/maps/api/place/textsearch/json\"\n",
    "\n",
    "    text_base_2_url = \"https://maps.googleapis.com/maps/api/place/textsearch/json\"\n",
    "\n",
    "    response = requests.get(text_base_url, params = params_Q)\n",
    "\n",
    "    #print(response)\n",
    "\n",
    "\n",
    "    hotel_location = response.json()\n",
    "\n",
    "    #print(json.dumps(hotel_location, indent=4, sort_keys=True))\n",
    "\n",
    "    #print(hotel_location[\"results\"][0][\"name\"])\n",
    "\n",
    "    print(hotel_location[\"results\"][0][\"name\"])\n",
    "    print(hotel_location[\"results\"][0][\"formatted_address\"])\n",
    "    #print(hotel_location[\"results\"][0][\"plus_code\"]\n",
    "\n",
    "\n"
   ]
  },
  {
   "cell_type": "code",
   "execution_count": 156,
   "metadata": {},
   "outputs": [
    {
     "data": {
      "text/html": [
       "<div>\n",
       "<style scoped>\n",
       "    .dataframe tbody tr th:only-of-type {\n",
       "        vertical-align: middle;\n",
       "    }\n",
       "\n",
       "    .dataframe tbody tr th {\n",
       "        vertical-align: top;\n",
       "    }\n",
       "\n",
       "    .dataframe thead th {\n",
       "        text-align: right;\n",
       "    }\n",
       "</style>\n",
       "<table border=\"1\" class=\"dataframe\">\n",
       "  <thead>\n",
       "    <tr style=\"text-align: right;\">\n",
       "      <th></th>\n",
       "      <th>Hotel Name</th>\n",
       "      <th>Hotel Address</th>\n",
       "      <th>Hotel Rating</th>\n",
       "      <th>Lat</th>\n",
       "      <th>Lng</th>\n",
       "      <th>lat,lng</th>\n",
       "      <th>Test89</th>\n",
       "    </tr>\n",
       "  </thead>\n",
       "  <tbody>\n",
       "    <tr>\n",
       "      <th>0</th>\n",
       "      <td>Radisson Blu Hotel Diyarbakir</td>\n",
       "      <td>Fırat, Şanlıurfa Blv. No 170, Kayapınar</td>\n",
       "      <td>4.4</td>\n",
       "      <td>37.921952</td>\n",
       "      <td>40.147579</td>\n",
       "      <td></td>\n",
       "      <td>0    37.921952\\n1    -6.233893\\n2   -19.903613...</td>\n",
       "    </tr>\n",
       "    <tr>\n",
       "      <th>1</th>\n",
       "      <td>Rising Sun Lodge</td>\n",
       "      <td>Section 16, Lot 36,, Arawa</td>\n",
       "      <td>3.7</td>\n",
       "      <td>-6.233893</td>\n",
       "      <td>155.566209</td>\n",
       "      <td></td>\n",
       "      <td>0    37.921952\\n1    -6.233893\\n2   -19.903613...</td>\n",
       "    </tr>\n",
       "    <tr>\n",
       "      <th>2</th>\n",
       "      <td>Bungalow le Prestige</td>\n",
       "      <td>Ambalamangahazo</td>\n",
       "      <td>4.0</td>\n",
       "      <td>-19.903613</td>\n",
       "      <td>48.812832</td>\n",
       "      <td></td>\n",
       "      <td>0    37.921952\\n1    -6.233893\\n2   -19.903613...</td>\n",
       "    </tr>\n",
       "  </tbody>\n",
       "</table>\n",
       "</div>"
      ],
      "text/plain": [
       "                      Hotel Name                            Hotel Address  \\\n",
       "0  Radisson Blu Hotel Diyarbakir  Fırat, Şanlıurfa Blv. No 170, Kayapınar   \n",
       "1               Rising Sun Lodge               Section 16, Lot 36,, Arawa   \n",
       "2           Bungalow le Prestige                          Ambalamangahazo   \n",
       "\n",
       "   Hotel Rating        Lat         Lng lat,lng  \\\n",
       "0           4.4  37.921952   40.147579           \n",
       "1           3.7  -6.233893  155.566209           \n",
       "2           4.0 -19.903613   48.812832           \n",
       "\n",
       "                                              Test89  \n",
       "0  0    37.921952\\n1    -6.233893\\n2   -19.903613...  \n",
       "1  0    37.921952\\n1    -6.233893\\n2   -19.903613...  \n",
       "2  0    37.921952\\n1    -6.233893\\n2   -19.903613...  "
      ]
     },
     "execution_count": 156,
     "metadata": {},
     "output_type": "execute_result"
    }
   ],
   "source": [
    "# attempt to to concantinate in a daframe\n",
    "# does not work\n",
    "for hotel in hotel_df[\"Hotel Address\"]:\n",
    "\n",
    "    lat = hotel_df[\"Lat\"]\n",
    "    lng = hotel_df[\"Lng\"]\n",
    "\n",
    "    hotel_df[\"Test89\"] = f\"{lat},{lng}\"\n",
    "\n",
    "    \n",
    "hotel_df"
   ]
  },
  {
   "cell_type": "code",
   "execution_count": null,
   "metadata": {},
   "outputs": [],
   "source": []
  },
  {
   "cell_type": "code",
   "execution_count": null,
   "metadata": {},
   "outputs": [],
   "source": []
  },
  {
   "cell_type": "code",
   "execution_count": null,
   "metadata": {},
   "outputs": [],
   "source": []
  },
  {
   "cell_type": "code",
   "execution_count": null,
   "metadata": {},
   "outputs": [],
   "source": [
    "# Potental deliminate code: if the concantination works city and country still need to be seperated\n",
    "# seperate columns\n",
    "df[['V','allele']] = df['V'].str.split(',',expand=True)"
   ]
  },
  {
   "cell_type": "code",
   "execution_count": null,
   "metadata": {},
   "outputs": [],
   "source": [
    "\n",
    "# Potental deliminate code: if the concantination works city and country still need to be seperated\n",
    "# seperate columns\n",
    "\n",
    "tmpDF = pd.DataFrame(columns=['A','B'])\n",
    "tmpDF[['A','B']] = df['V'].str.split('-', expand=True)"
   ]
  },
  {
   "cell_type": "code",
   "execution_count": null,
   "metadata": {},
   "outputs": [],
   "source": [
    "# Potental deliminate code: if the concantination works city and country still need to be seperated\n",
    "# seperate columns\n",
    "temp_df = df['Location'].str.split('\\n').str.split().apply(pd.Series)"
   ]
  },
  {
   "cell_type": "code",
   "execution_count": null,
   "metadata": {},
   "outputs": [],
   "source": []
  },
  {
   "cell_type": "code",
   "execution_count": null,
   "metadata": {},
   "outputs": [],
   "source": [
    "### Was not abole to access due to the inability to get appropriate dataframe"
   ]
  },
  {
   "cell_type": "code",
   "execution_count": null,
   "metadata": {},
   "outputs": [],
   "source": [
    "# NOTE: Do not change any of the code in this cell\n",
    "\n",
    "# Using the template add the hotel marks to the heatmap\n",
    "info_box_template = \"\"\"\n",
    "<dl>\n",
    "<dt>Name</dt><dd>{Hotel Name}</dd>\n",
    "<dt>City</dt><dd>{City}</dd>\n",
    "<dt>Country</dt><dd>{Country}</dd>\n",
    "</dl>\n",
    "\"\"\"\n",
    "# Store the DataFrame Row\n",
    "# NOTE: be sure to update with your DataFrame name\n",
    "mod_temp1_df = [info_box_template.format(**row) for index, row in mod_temp_df.iterrows()]\n",
    "locations = mod_temp_df[[\"Lat\", \"Lng\"]]"
   ]
  },
  {
   "cell_type": "code",
   "execution_count": null,
   "metadata": {},
   "outputs": [],
   "source": [
    "# Add marker layer ontop of heat map\n",
    "\n",
    "\n",
    "# Display figure\n"
   ]
  },
  {
   "cell_type": "markdown",
   "metadata": {},
   "source": [
    "#  Conclusion\n",
    "If I had more time or guidence, I probably could have figured this out.\n",
    "However I am at an impass.\n",
    "\n",
    "Last completion point: Identification of Hotel, addreees, Lat, And lOng"
   ]
  },
  {
   "cell_type": "code",
   "execution_count": null,
   "metadata": {},
   "outputs": [],
   "source": []
  }
 ],
 "metadata": {
  "kernelspec": {
   "display_name": "Python [conda env:PythonData]",
   "language": "python",
   "name": "conda-env-PythonData-py"
  },
  "language_info": {
   "codemirror_mode": {
    "name": "ipython",
    "version": 3
   },
   "file_extension": ".py",
   "mimetype": "text/x-python",
   "name": "python",
   "nbconvert_exporter": "python",
   "pygments_lexer": "ipython3",
   "version": "3.6.10"
  },
  "latex_envs": {
   "LaTeX_envs_menu_present": true,
   "autoclose": false,
   "autocomplete": true,
   "bibliofile": "biblio.bib",
   "cite_by": "apalike",
   "current_citInitial": 1,
   "eqLabelWithNumbers": true,
   "eqNumInitial": 1,
   "hotkeys": {
    "equation": "Ctrl-E",
    "itemize": "Ctrl-I"
   },
   "labels_anchors": false,
   "latex_user_defs": false,
   "report_style_numbering": false,
   "user_envs_cfg": false
  }
 },
 "nbformat": 4,
 "nbformat_minor": 4
}
